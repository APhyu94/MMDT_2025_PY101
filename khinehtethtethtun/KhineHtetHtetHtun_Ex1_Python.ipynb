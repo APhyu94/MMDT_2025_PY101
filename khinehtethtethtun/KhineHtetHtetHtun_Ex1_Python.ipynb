{
  "cells": [
    {
      "cell_type": "markdown",
      "metadata": {
        "id": "thgO68_HZ0Aa"
      },
      "source": [
        "# Introduction"
      ]
    },
    {
      "cell_type": "markdown",
      "metadata": {
        "id": "PIh3i0c_Z_yP"
      },
      "source": [
        "This section introduces the Python Programming uisng Colab. Follow the instructions and complete the exercises."
      ]
    },
    {
      "cell_type": "markdown",
      "metadata": {
        "id": "gCw6SfeFZ78l"
      },
      "source": [
        "# Ex 1 : Check Version"
      ]
    },
    {
      "cell_type": "markdown",
      "metadata": {
        "id": "6Vm-27iLabjm"
      },
      "source": [
        "Using the below cell, Import the required library and check the version of the python in your environment."
      ]
    },
    {
      "cell_type": "code",
      "execution_count": null,
      "metadata": {
        "id": "PJDYHB4AXVdc",
        "colab": {
          "base_uri": "https://localhost:8080/",
          "height": 35
        },
        "outputId": "e5c8a8a6-d5f0-4d68-c906-8ad200254151"
      },
      "outputs": [
        {
          "output_type": "execute_result",
          "data": {
            "text/plain": [
              "'3.11.12 (main, Apr  9 2025, 08:55:54) [GCC 11.4.0]'"
            ],
            "application/vnd.google.colaboratory.intrinsic+json": {
              "type": "string"
            }
          },
          "metadata": {},
          "execution_count": 5
        }
      ],
      "source": [
        "import sys\n",
        "sys.version"
      ]
    },
    {
      "cell_type": "markdown",
      "metadata": {
        "id": "5qTEiwGlawf5"
      },
      "source": [
        "# Ex2 : Convert Currency."
      ]
    },
    {
      "cell_type": "markdown",
      "metadata": {
        "id": "XH8K1p0ypVCg"
      },
      "source": [
        "Write a program that asks the user for the amount in usd and converts it to British pounds. The exchange rate is from usd to BP is given as 0.82"
      ]
    },
    {
      "cell_type": "code",
      "execution_count": null,
      "metadata": {
        "id": "x9xQXOnRa0MS",
        "colab": {
          "base_uri": "https://localhost:8080/"
        },
        "outputId": "b7eefeb9-7116-4cf3-fd15-03a71b9e8098"
      },
      "outputs": [
        {
          "output_type": "stream",
          "name": "stdout",
          "text": [
            "Enter the amount in USD: 2\n",
            "2 usd is equivalent to 1.64 british pound\n"
          ]
        }
      ],
      "source": [
        "usd_amount = input (\"Enter the amount in USD: \")\n",
        "bp_amount = int(usd_amount) *0.82\n",
        "print(\"{} usd is equivalent to {} british pound\".format(usd_amount, bp_amount))"
      ]
    },
    {
      "cell_type": "markdown",
      "metadata": {
        "id": "ePfECwUIpli4"
      },
      "source": [
        "# Ex 3: Temperature Converter"
      ]
    },
    {
      "cell_type": "markdown",
      "metadata": {
        "id": "Y60hUWDsp3pK"
      },
      "source": [
        "Write a program that convert temperature in Feranhite to celsius."
      ]
    },
    {
      "cell_type": "code",
      "execution_count": null,
      "metadata": {
        "id": "G9PbO6qPoUfn",
        "colab": {
          "base_uri": "https://localhost:8080/"
        },
        "outputId": "f47ab88d-1ac2-4271-dff2-fb0fad079f94"
      },
      "outputs": [
        {
          "output_type": "stream",
          "name": "stdout",
          "text": [
            "Enter the temperature in Feranhite: 2\n",
            "2 Feranhite is equivalent to -16.666666666666668 Celsius\n"
          ]
        }
      ],
      "source": [
        "Feranhite = input (\"Enter the temperature in Feranhite: \")\n",
        "Celsius = (float(Feranhite) - 32 )* 5/9\n",
        "print(\"{} Feranhite is equivalent to {} Celsius\".format(Feranhite, Celsius))"
      ]
    },
    {
      "cell_type": "markdown",
      "metadata": {
        "id": "a2kNRO9Vp7Qz"
      },
      "source": [
        "# Ex 4: Daily Maths"
      ]
    },
    {
      "cell_type": "markdown",
      "metadata": {
        "id": "lItKon9qqEUn"
      },
      "source": [
        "You are working in a retail shop. Write a program that computes the total cost for a customer that bought 3 differnt types of fruits : apple, orange, mango. Ask the user to enter the quantity and price for each type."
      ]
    },
    {
      "cell_type": "code",
      "execution_count": null,
      "metadata": {
        "id": "mIQFjH6wqDma",
        "colab": {
          "base_uri": "https://localhost:8080/"
        },
        "outputId": "b51959cb-2c5f-47c2-acdc-4b2f3618afba"
      },
      "outputs": [
        {
          "output_type": "stream",
          "name": "stdout",
          "text": [
            "Enter the number of apple : 2\n",
            "Enter the price of apple : 3\n",
            "Enter the number of orange : 2\n",
            "Enter the price of orange : 3\n",
            "Enter the number of mango : 2\n",
            "Enter the price of mango : 3\n",
            "Total cost is 18\n"
          ]
        }
      ],
      "source": [
        "3\n",
        "apple_qty = input(\"Enter the number of apple : \")\n",
        "apple_price = input(\"Enter the price of apple : \")\n",
        "\n",
        "orange_qty = input(\"Enter the number of orange : \")\n",
        "orange_price = input(\"Enter the price of orange : \")\n",
        "\n",
        "mango_qty = input(\"Enter the number of mango : \")\n",
        "mango_price = input(\"Enter the price of mango : \")\n",
        "\n",
        "total_cost = int(apple_qty)*int(apple_price)+ int(orange_qty)*int(orange_price)+int(mango_qty)*int(mango_price)\n",
        "print(\"Total cost is\", total_cost)"
      ]
    },
    {
      "cell_type": "markdown",
      "metadata": {
        "id": "31fXlmEQqgvW"
      },
      "source": [
        "# Ex 5 : Greeting"
      ]
    },
    {
      "cell_type": "markdown",
      "metadata": {
        "id": "zvnmj8MGrJIw"
      },
      "source": [
        "Write a program to greet the customer who provides the user name. Your program should ask the name of the customer and print \"Hello + customer name\""
      ]
    },
    {
      "cell_type": "code",
      "execution_count": null,
      "metadata": {
        "id": "Z6ynxZMarIXh",
        "colab": {
          "base_uri": "https://localhost:8080/"
        },
        "outputId": "67074206-11a6-4cbc-ed61-17a997f161e2"
      },
      "outputs": [
        {
          "output_type": "stream",
          "name": "stdout",
          "text": [
            "Enter the name : Ling\n",
            "Hello Ling\n"
          ]
        }
      ],
      "source": [
        "user_name = input(\"Enter the name : \")\n",
        "print(\"Hello\", user_name)"
      ]
    },
    {
      "cell_type": "markdown",
      "metadata": {
        "id": "gIssNTjnJDIe"
      },
      "source": [
        "# Ex 6: Random Number\n",
        "Write a program that generates a random number, x, between 1 and 50, a random number y between 2 and 5, and computes x^y."
      ]
    },
    {
      "cell_type": "code",
      "execution_count": null,
      "metadata": {
        "id": "8cf5a-KSJDIf",
        "colab": {
          "base_uri": "https://localhost:8080/"
        },
        "outputId": "145d745a-8e86-41d0-80c0-71f8d194253f"
      },
      "outputs": [
        {
          "output_type": "stream",
          "name": "stdout",
          "text": [
            "A random number between 1 and 10:  8\n"
          ]
        }
      ],
      "source": [
        "from random import randint\n",
        "x = randint(1,10)\n",
        "print('A random number between 1 and 10: ', x)"
      ]
    },
    {
      "cell_type": "markdown",
      "metadata": {
        "id": "Fc_AMgacJDIf"
      },
      "source": [
        "# Ex 7: Greet many times.\n",
        "Write a program that generates a random number between 1 and 10 and prints your name that many times."
      ]
    },
    {
      "cell_type": "code",
      "execution_count": null,
      "metadata": {
        "id": "_iAzN9sBJDIf",
        "colab": {
          "base_uri": "https://localhost:8080/"
        },
        "outputId": "17f12956-9557-405a-a914-4b4f83032115"
      },
      "outputs": [
        {
          "output_type": "stream",
          "name": "stdout",
          "text": [
            "Enter your name : ling\n",
            "ling\n",
            "ling\n",
            "ling\n",
            "ling\n",
            "ling\n",
            "ling\n",
            "ling\n",
            "ling\n",
            "ling\n",
            "A random number between 1 and 10: 9\n"
          ]
        }
      ],
      "source": [
        "from random import randint\n",
        "x = randint(1,10)\n",
        "name = input(\"Enter your name : \")\n",
        "for _ in range (x): print (name)\n",
        "print(\"A random number between 1 and 10:\", x)\n"
      ]
    },
    {
      "cell_type": "markdown",
      "metadata": {
        "id": "77MHJ52xJDIf"
      },
      "source": [
        "# Ex 8: Computing.\n",
        "Write a program that asks the user to enter two numbers, x and y, and computes |x-y|/(x+y)."
      ]
    },
    {
      "cell_type": "code",
      "execution_count": null,
      "metadata": {
        "id": "H0AFxzDmJDIf",
        "colab": {
          "base_uri": "https://localhost:8080/"
        },
        "outputId": "2bbf8f74-63b3-4692-9904-a4a99bba55a0"
      },
      "outputs": [
        {
          "output_type": "stream",
          "name": "stdout",
          "text": [
            "Enter x number : 6\n",
            "Enter y number : 2\n",
            "0.5\n"
          ]
        }
      ],
      "source": [
        "x = int(input(\"Enter x number : \"))\n",
        "y = int(input(\"Enter y number : \"))\n",
        "solution = abs(x-y)/(x+y)\n",
        "print(solution)"
      ]
    },
    {
      "cell_type": "markdown",
      "metadata": {
        "id": "3WsdS48JJDIg"
      },
      "source": [
        "# Ex 9: Computing\n",
        "\n",
        "Write a program that asks the user for a number of seconds and prints out how many minutes and seconds that is. For instance, 200 seconds is 3 minutes and 20 seconds."
      ]
    },
    {
      "cell_type": "code",
      "execution_count": null,
      "metadata": {
        "id": "5OeY9jbfJDIg",
        "colab": {
          "base_uri": "https://localhost:8080/"
        },
        "outputId": "f40bd106-875f-4147-f3c4-198797801fd6"
      },
      "outputs": [
        {
          "output_type": "stream",
          "name": "stdout",
          "text": [
            "Enter a number of seconds : 200\n",
            "3.3333333333333335\n"
          ]
        }
      ],
      "source": [
        "seconds = int(input(\"Enter a number of seconds : \"))\n",
        "secs_to_mins = seconds/60\n",
        "print(secs_to_mins)"
      ]
    },
    {
      "cell_type": "markdown",
      "metadata": {
        "id": "yF-u0_R-JDIg"
      },
      "source": [
        "# Ex 10: Using Math Module\n",
        "\n",
        "Write a program that asks the user for a number and then prints out the sine, cosine, and tangent of that number."
      ]
    },
    {
      "cell_type": "code",
      "execution_count": null,
      "metadata": {
        "id": "CQLDrjtrJDIg",
        "colab": {
          "base_uri": "https://localhost:8080/"
        },
        "outputId": "bbea9895-df50-4939-c65c-27dcc7cd988c"
      },
      "outputs": [
        {
          "output_type": "stream",
          "name": "stdout",
          "text": [
            "Enter a number:2\n",
            "0.9092974268256817\n"
          ]
        }
      ],
      "source": [
        "import math\n",
        "num = float(input(\"Enter a number:\"))\n",
        "sine_value = math.sin(num)\n",
        "print(sine_value)\n"
      ]
    }
  ],
  "metadata": {
    "colab": {
      "provenance": []
    },
    "kernelspec": {
      "display_name": "Python 3",
      "language": "python",
      "name": "python3"
    },
    "language_info": {
      "codemirror_mode": {
        "name": "ipython",
        "version": 3
      },
      "file_extension": ".py",
      "mimetype": "text/x-python",
      "name": "python",
      "nbconvert_exporter": "python",
      "pygments_lexer": "ipython3",
      "version": "3.12.1"
    }
  },
  "nbformat": 4,
  "nbformat_minor": 0
}