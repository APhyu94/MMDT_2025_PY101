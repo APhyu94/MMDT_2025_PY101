{
 "cells": [
  {
   "cell_type": "markdown",
   "metadata": {
    "colab_type": "text",
    "id": "view-in-github"
   },
   "source": [
    "<a href=\"https://colab.research.google.com/github/myothida/PythonProgramming/blob/main/Ex1_Python.ipynb\" target=\"_parent\"><img src=\"https://colab.research.google.com/assets/colab-badge.svg\" alt=\"Open In Colab\"/></a>"
   ]
  },
  {
   "cell_type": "markdown",
   "metadata": {
    "id": "thgO68_HZ0Aa"
   },
   "source": [
    "# Introduction"
   ]
  },
  {
   "cell_type": "markdown",
   "metadata": {
    "id": "PIh3i0c_Z_yP"
   },
   "source": [
    "This section introduces the Python Programming uisng Colab. Follow the instructions and complete the exercises."
   ]
  },
  {
   "cell_type": "markdown",
   "metadata": {
    "id": "gCw6SfeFZ78l"
   },
   "source": [
    "# Ex 1 : Check Version"
   ]
  },
  {
   "cell_type": "markdown",
   "metadata": {
    "id": "6Vm-27iLabjm"
   },
   "source": [
    "Using the below cell, Import the required library and check the version of the python in your environment. "
   ]
  },
  {
   "cell_type": "code",
   "execution_count": 1,
   "metadata": {
    "id": "PJDYHB4AXVdc"
   },
   "outputs": [
    {
     "name": "stdout",
     "output_type": "stream",
     "text": [
      "Python version: 3.12.7 | packaged by Anaconda, Inc. | (main, Oct  4 2024, 13:17:27) [MSC v.1929 64 bit (AMD64)]\n"
     ]
    }
   ],
   "source": [
    "import sys\n",
    "print(\"Python version:\", sys.version)"
   ]
  },
  {
   "cell_type": "markdown",
   "metadata": {
    "id": "5qTEiwGlawf5"
   },
   "source": [
    "# Ex2 : Convert Currency. "
   ]
  },
  {
   "cell_type": "markdown",
   "metadata": {
    "id": "XH8K1p0ypVCg"
   },
   "source": [
    "Write a program that asks the user for the amount in usd and converts it to British pounds. The exchange rate is from usd to BP is given as 0.82"
   ]
  },
  {
   "cell_type": "code",
   "execution_count": 3,
   "metadata": {
    "colab": {
     "base_uri": "https://localhost:8080/"
    },
    "id": "x9xQXOnRa0MS",
    "outputId": "64294c78-0769-4728-f781-9204a1aa51e3"
   },
   "outputs": [
    {
     "name": "stdin",
     "output_type": "stream",
     "text": [
      "Enter the amount in USD:  100\n"
     ]
    },
    {
     "name": "stdout",
     "output_type": "stream",
     "text": [
      "100 usd is equivalent to 82.0 british pound\n"
     ]
    }
   ],
   "source": [
    "usd_amount = input (\"Enter the amount in USD: \")\n",
    "bp_amount = int(usd_amount) *0.82\n",
    "print(\"{} usd is equivalent to {} british pound\".format(usd_amount, bp_amount))"
   ]
  },
  {
   "cell_type": "markdown",
   "metadata": {
    "id": "ePfECwUIpli4"
   },
   "source": [
    "# Ex 3: Temperature Converter"
   ]
  },
  {
   "cell_type": "markdown",
   "metadata": {
    "id": "Y60hUWDsp3pK"
   },
   "source": [
    "Write a program that convert temperature in Feranhite to celsius. "
   ]
  },
  {
   "cell_type": "code",
   "execution_count": 5,
   "metadata": {
    "id": "G9PbO6qPoUfn"
   },
   "outputs": [
    {
     "name": "stdout",
     "output_type": "stream",
     "text": [
      "45 degrees Fahrenheit is 7.22 degrees Celsius.\n"
     ]
    }
   ],
   "source": [
    "temp_Fahrenheit = 45\n",
    "temp_Celsius = (temp_Fahrenheit - 32) * 5 / 9\n",
    "print(str(temp_Fahrenheit) + \" degrees Fahrenheit is \" + str(round(temp_Celsius, 2)) + \" degrees Celsius.\")"
   ]
  },
  {
   "cell_type": "markdown",
   "metadata": {
    "id": "a2kNRO9Vp7Qz"
   },
   "source": [
    "# Ex 4: Daily Maths"
   ]
  },
  {
   "cell_type": "markdown",
   "metadata": {
    "id": "lItKon9qqEUn"
   },
   "source": [
    "You are working in a retail shop. Write a program that computes the total cost for a customer that bought 3 differnt types of fruits : apple, orange, mango. Ask the user to enter the quantity and price for each type. "
   ]
  },
  {
   "cell_type": "code",
   "execution_count": 9,
   "metadata": {
    "id": "mIQFjH6wqDma"
   },
   "outputs": [
    {
     "name": "stdin",
     "output_type": "stream",
     "text": [
      "Enter the price of an apple:  2\n",
      "Enter the price of an orange:  2.5\n",
      "Enter the price of a mango:  3\n",
      "Enter the number of apples you want:  5\n",
      "Enter the number of oranges you want:  3\n",
      "Enter the number of mangos you want:  1\n"
     ]
    },
    {
     "name": "stdout",
     "output_type": "stream",
     "text": [
      "You have bought 5 apples, 3 oranges, 1 mangos, and the total cost is: 20.5.\n"
     ]
    }
   ],
   "source": [
    "apple_cost = float(input(\"Enter the price of an apple: \"))\n",
    "orange_cost = float(input(\"Enter the price of an orange: \"))\n",
    "mango_cost = float(input(\"Enter the price of a mango: \"))\n",
    "\n",
    "apple_qty = int(input(\"Enter the number of apples you want: \"))\n",
    "orange_qty = int(input(\"Enter the number of oranges you want: \"))\n",
    "mango_qty = int(input(\"Enter the number of mangos you want: \"))\n",
    "\n",
    "total_cost = (apple_qty * apple_cost) + (orange_qty * orange_cost) + (mango_qty * mango_cost) \n",
    "\n",
    "print(f\"You have bought {apple_qty} apples, {orange_qty} oranges, {mango_qty} mangos, and the total cost is: {total_cost}.\")"
   ]
  },
  {
   "cell_type": "markdown",
   "metadata": {
    "id": "31fXlmEQqgvW"
   },
   "source": [
    "# Ex 5 : Greeting"
   ]
  },
  {
   "cell_type": "markdown",
   "metadata": {
    "id": "zvnmj8MGrJIw"
   },
   "source": [
    "Write a program to greet the customer who provides the user name. Your program should ask the name of the customer and print \"Hello + customer name\""
   ]
  },
  {
   "cell_type": "code",
   "execution_count": 15,
   "metadata": {
    "id": "Z6ynxZMarIXh"
   },
   "outputs": [
    {
     "name": "stdin",
     "output_type": "stream",
     "text": [
      "Please, enter your name:  Nadi\n"
     ]
    },
    {
     "name": "stdout",
     "output_type": "stream",
     "text": [
      "Hello, Nadi!\n"
     ]
    }
   ],
   "source": [
    "customer_name = input(\"Please, enter your name: \")\n",
    "print(\"Hello, \"+ customer_name + \"!\")"
   ]
  },
  {
   "cell_type": "markdown",
   "metadata": {},
   "source": [
    "# Ex 6: Random Number\n",
    "Write a program that generates a random number, x, between 1 and 50, a random number y between 2 and 5, and computes x^y."
   ]
  },
  {
   "cell_type": "code",
   "execution_count": 55,
   "metadata": {},
   "outputs": [
    {
     "name": "stdout",
     "output_type": "stream",
     "text": [
      "A random number between 1 and 10:  10\n"
     ]
    }
   ],
   "source": [
    "from random import randint\n",
    "x = randint(1,10)\n",
    "print('A random number between 1 and 10: ', x)"
   ]
  },
  {
   "cell_type": "markdown",
   "metadata": {},
   "source": [
    "# Ex 7: Greet many times.\n",
    "Write a program that generates a random number between 1 and 10 and prints your name that many times."
   ]
  },
  {
   "cell_type": "code",
   "execution_count": 41,
   "metadata": {},
   "outputs": [
    {
     "name": "stdout",
     "output_type": "stream",
     "text": [
      "Nadi Shwe Yee\n",
      "Nadi Shwe Yee\n",
      "Nadi Shwe Yee\n",
      "Nadi Shwe Yee\n",
      "Nadi Shwe Yee\n",
      "Nadi Shwe Yee\n",
      "Nadi Shwe Yee\n",
      "Nadi Shwe Yee\n",
      "\n"
     ]
    }
   ],
   "source": [
    "from random import randint\n",
    "x = randint(1,10)\n",
    "print((\"Nadi Shwe Yee\\n\" * x))"
   ]
  },
  {
   "cell_type": "markdown",
   "metadata": {},
   "source": [
    "# Ex 8: Computing. \n",
    "Write a program that asks the user to enter two numbers, x and y, and computes |x-y|/(x+y)."
   ]
  },
  {
   "cell_type": "code",
   "execution_count": 43,
   "metadata": {},
   "outputs": [
    {
     "name": "stdin",
     "output_type": "stream",
     "text": [
      "Enter number x:  3\n",
      "Enter number y:  5\n"
     ]
    },
    {
     "name": "stdout",
     "output_type": "stream",
     "text": [
      "0.25\n"
     ]
    }
   ],
   "source": [
    "x = int(input(\"Enter number x: \"))\n",
    "y = int(input(\"Enter number y: \"))\n",
    "computation = abs(x-y)/(x+y)\n",
    "print(computation)"
   ]
  },
  {
   "cell_type": "markdown",
   "metadata": {},
   "source": [
    "# Ex 9: Computing\n",
    "\n",
    "Write a program that asks the user for a number of seconds and prints out how many minutes and seconds that is. For instance, 200 seconds is 3 minutes and 20 seconds."
   ]
  },
  {
   "cell_type": "code",
   "execution_count": 45,
   "metadata": {},
   "outputs": [
    {
     "name": "stdin",
     "output_type": "stream",
     "text": [
      "Please enter seconds:  200\n"
     ]
    },
    {
     "name": "stdout",
     "output_type": "stream",
     "text": [
      "The 200 seconds is 3 minutes and 20 seconds.\n"
     ]
    }
   ],
   "source": [
    "input_second = int(input(\"Please enter seconds: \"))\n",
    "minutes = input_second // 60\n",
    "seconds = input_second % 60\n",
    "print(f\"The {input_second} seconds is {minutes} minutes and {seconds} seconds.\")"
   ]
  },
  {
   "cell_type": "markdown",
   "metadata": {},
   "source": [
    "# Ex 10: Using Math Module\n",
    "\n",
    "Write a program that asks the user for a number and then prints out the sine, cosine, and tangent of that number."
   ]
  },
  {
   "cell_type": "code",
   "execution_count": 47,
   "metadata": {},
   "outputs": [
    {
     "name": "stdin",
     "output_type": "stream",
     "text": [
      "Enter a number: 60\n"
     ]
    },
    {
     "name": "stdout",
     "output_type": "stream",
     "text": [
      "-0.3048106211022167\n"
     ]
    }
   ],
   "source": [
    "import math\n",
    "num = float(input(\"Enter a number:\"))\n",
    "sine_value = math.sin(num)\n",
    "print(sine_value)\n"
   ]
  },
  {
   "cell_type": "code",
   "execution_count": null,
   "metadata": {},
   "outputs": [],
   "source": []
  }
 ],
 "metadata": {
  "colab": {
   "collapsed_sections": [],
   "include_colab_link": true,
   "name": "Ex1_Python.ipynb",
   "provenance": []
  },
  "kernelspec": {
   "display_name": "Python [conda env:base] *",
   "language": "python",
   "name": "conda-base-py"
  },
  "language_info": {
   "codemirror_mode": {
    "name": "ipython",
    "version": 3
   },
   "file_extension": ".py",
   "mimetype": "text/x-python",
   "name": "python",
   "nbconvert_exporter": "python",
   "pygments_lexer": "ipython3",
   "version": "3.12.7"
  }
 },
 "nbformat": 4,
 "nbformat_minor": 4
}
