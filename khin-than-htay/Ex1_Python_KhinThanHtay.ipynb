{
  "cells": [
    {
      "cell_type": "markdown",
      "metadata": {
        "id": "view-in-github",
        "colab_type": "text"
      },
      "source": [
        "<a href=\"https://colab.research.google.com/github/khinthanhtay95/MMDT_2025_PY101/blob/KhinThanHtay/khin-than-htay/Ex1_Python_KhinThanHtay.ipynb\" target=\"_parent\"><img src=\"https://colab.research.google.com/assets/colab-badge.svg\" alt=\"Open In Colab\"/></a>"
      ]
    },
    {
      "cell_type": "markdown",
      "metadata": {
        "id": "thgO68_HZ0Aa"
      },
      "source": [
        "# Introduction"
      ]
    },
    {
      "cell_type": "markdown",
      "metadata": {
        "id": "PIh3i0c_Z_yP"
      },
      "source": [
        "This section introduces the Python Programming uisng Colab. Follow the instructions and complete the exercises."
      ]
    },
    {
      "cell_type": "markdown",
      "metadata": {
        "id": "gCw6SfeFZ78l"
      },
      "source": [
        "# Ex 1 : Check Version"
      ]
    },
    {
      "cell_type": "markdown",
      "metadata": {
        "id": "6Vm-27iLabjm"
      },
      "source": [
        "Using the below cell, Import the required library and check the version of the python in your environment."
      ]
    },
    {
      "cell_type": "code",
      "execution_count": 4,
      "metadata": {
        "id": "PJDYHB4AXVdc",
        "outputId": "02c2c121-a38f-4c66-cd16-8286d5e077a6",
        "colab": {
          "base_uri": "https://localhost:8080/",
          "height": 35
        }
      },
      "outputs": [
        {
          "output_type": "execute_result",
          "data": {
            "text/plain": [
              "'3.11.12 (main, Apr  9 2025, 08:55:54) [GCC 11.4.0]'"
            ],
            "application/vnd.google.colaboratory.intrinsic+json": {
              "type": "string"
            }
          },
          "metadata": {},
          "execution_count": 4
        }
      ],
      "source": [
        "import sys\n",
        "sys.version"
      ]
    },
    {
      "cell_type": "markdown",
      "metadata": {
        "id": "5qTEiwGlawf5"
      },
      "source": [
        "# Ex2 : Convert Currency."
      ]
    },
    {
      "cell_type": "markdown",
      "metadata": {
        "id": "XH8K1p0ypVCg"
      },
      "source": [
        "Write a program that asks the user for the amount in usd and converts it to British pounds. The exchange rate is from usd to BP is given as 0.82"
      ]
    },
    {
      "cell_type": "code",
      "execution_count": 5,
      "metadata": {
        "colab": {
          "base_uri": "https://localhost:8080/"
        },
        "id": "x9xQXOnRa0MS",
        "outputId": "6ac67750-0f8e-4f43-8bf7-f91f110381af"
      },
      "outputs": [
        {
          "output_type": "stream",
          "name": "stdout",
          "text": [
            "Enter the amount in USD: 2\n",
            "2 usd is equivalent to 1.64 british pound\n"
          ]
        }
      ],
      "source": [
        "usd_amount = input (\"Enter the amount in USD: \")\n",
        "bp_amount = int(usd_amount) *0.82\n",
        "print(\"{} usd is equivalent to {} british pound\".format(usd_amount, bp_amount))"
      ]
    },
    {
      "cell_type": "markdown",
      "metadata": {
        "id": "ePfECwUIpli4"
      },
      "source": [
        "# Ex 3: Temperature Converter"
      ]
    },
    {
      "cell_type": "markdown",
      "metadata": {
        "id": "Y60hUWDsp3pK"
      },
      "source": [
        "Write a program that convert temperature in Feranhite to celsius."
      ]
    },
    {
      "cell_type": "code",
      "execution_count": 6,
      "metadata": {
        "id": "G9PbO6qPoUfn",
        "outputId": "ea964c27-bb53-4ec2-bda1-cdf41b1bf826",
        "colab": {
          "base_uri": "https://localhost:8080/"
        }
      },
      "outputs": [
        {
          "output_type": "stream",
          "name": "stdout",
          "text": [
            "Enter the temperature in Feranhite: 70\n",
            "70 Feranhite is equivalent to 21 Celsius\n"
          ]
        }
      ],
      "source": [
        "temp_Feranhite = input (\"Enter the temperature in Feranhite: \")\n",
        "temp_Celsius = int((int(temp_Feranhite) - 32) * 5/9)\n",
        "print(\"{} Feranhite is equivalent to {} Celsius\".format(temp_Feranhite, temp_Celsius))"
      ]
    },
    {
      "cell_type": "markdown",
      "metadata": {
        "id": "a2kNRO9Vp7Qz"
      },
      "source": [
        "# Ex 4: Daily Maths"
      ]
    },
    {
      "cell_type": "markdown",
      "metadata": {
        "id": "lItKon9qqEUn"
      },
      "source": [
        "You are working in a retail shop. Write a program that computes the total cost for a customer that bought 3 differnt types of fruits : apple, orange, mango. Ask the user to enter the quantity and price for each type."
      ]
    },
    {
      "cell_type": "code",
      "execution_count": 7,
      "metadata": {
        "id": "mIQFjH6wqDma",
        "outputId": "1abd5144-19a0-4b10-b614-6937f09728b2",
        "colab": {
          "base_uri": "https://localhost:8080/"
        }
      },
      "outputs": [
        {
          "output_type": "stream",
          "name": "stdout",
          "text": [
            "Enter quantity of apple :2\n",
            "Enter unit price of apple :2\n",
            "Enter quantity of orange :3\n",
            "Enter unit price of orange :3\n",
            "Enter quantity of mango :3\n",
            "Enter unit price of mango :3\n",
            "total cost of 3 different types of fruits : 22\n"
          ]
        }
      ],
      "source": [
        "qty_apple = int(input (\"Enter quantity of apple :\"))\n",
        "unitPrice_apple = int(input (\"Enter unit price of apple :\"))\n",
        "total_apple = qty_apple * unitPrice_apple\n",
        "\n",
        "qty_orange = int(input (\"Enter quantity of orange :\"))\n",
        "unitPrice_orange = int(input (\"Enter unit price of orange :\"))\n",
        "total_orange = qty_orange * unitPrice_orange\n",
        "\n",
        "qty_mango = int(input (\"Enter quantity of mango :\"))\n",
        "unitPrice_mango = int(input (\"Enter unit price of mango :\"))\n",
        "total_mango = qty_mango * unitPrice_mango\n",
        "\n",
        "total_cost = total_apple + total_orange + total_mango\n",
        "print (\"total cost of 3 different types of fruits :\", total_cost)"
      ]
    },
    {
      "cell_type": "markdown",
      "metadata": {
        "id": "31fXlmEQqgvW"
      },
      "source": [
        "# Ex 5 : Greeting"
      ]
    },
    {
      "cell_type": "markdown",
      "metadata": {
        "id": "zvnmj8MGrJIw"
      },
      "source": [
        "Write a program to greet the customer who provides the user name. Your program should ask the name of the customer and print \"Hello + customer name\""
      ]
    },
    {
      "cell_type": "code",
      "execution_count": 8,
      "metadata": {
        "id": "Z6ynxZMarIXh",
        "outputId": "f7b0e81f-c8d9-403f-f27b-1aed4121a05c",
        "colab": {
          "base_uri": "https://localhost:8080/"
        }
      },
      "outputs": [
        {
          "output_type": "stream",
          "name": "stdout",
          "text": [
            "Enter your name :kkk\n",
            "Hello kkk\n"
          ]
        }
      ],
      "source": [
        "customer_name = input (\"Enter your name :\")\n",
        "print(\"Hello \"+ customer_name)"
      ]
    },
    {
      "cell_type": "markdown",
      "metadata": {
        "id": "dJRHJ2EyqdXZ"
      },
      "source": [
        "# Ex 6: Random Number\n",
        "Write a program that generates a random number, x, between 1 and 50, a random number y between 2 and 5, and computes x^y."
      ]
    },
    {
      "cell_type": "code",
      "execution_count": 9,
      "metadata": {
        "id": "krMGA4nAqdXZ",
        "outputId": "9c95285d-ca92-496c-b34e-d8de1b2b4fa6",
        "colab": {
          "base_uri": "https://localhost:8080/"
        }
      },
      "outputs": [
        {
          "output_type": "stream",
          "name": "stdout",
          "text": [
            "A random number between 1 and 10:  5\n"
          ]
        }
      ],
      "source": [
        "from random import randint\n",
        "x = randint(1,10)\n",
        "print('A random number between 1 and 10: ', x)"
      ]
    },
    {
      "cell_type": "markdown",
      "metadata": {
        "id": "mevPIaJfqdXZ"
      },
      "source": [
        "# Ex 7: Greet many times.\n",
        "Write a program that generates a random number between 1 and 10 and prints your name that many times."
      ]
    },
    {
      "cell_type": "code",
      "execution_count": 10,
      "metadata": {
        "id": "x5PfkIw8qdXZ",
        "outputId": "8497e7cc-fb67-4b0e-c72a-f3c8c8d7a56f",
        "colab": {
          "base_uri": "https://localhost:8080/"
        }
      },
      "outputs": [
        {
          "output_type": "stream",
          "name": "stdout",
          "text": [
            "Generated random number between 1 and 10:  10\n",
            "Khin Than Htay\n",
            "Khin Than Htay\n",
            "Khin Than Htay\n",
            "Khin Than Htay\n",
            "Khin Than Htay\n",
            "Khin Than Htay\n",
            "Khin Than Htay\n",
            "Khin Than Htay\n",
            "Khin Than Htay\n",
            "Khin Than Htay\n"
          ]
        }
      ],
      "source": [
        "from random import randint\n",
        "x = randint(1,10)\n",
        "print(\"Generated random number between 1 and 10: \", x)\n",
        "\n",
        "name = \"Khin Than Htay\"\n",
        "for i in range (x):\n",
        "    print(name)"
      ]
    },
    {
      "cell_type": "markdown",
      "metadata": {
        "id": "Rkd82VxtqdXa"
      },
      "source": [
        "# Ex 8: Computing.\n",
        "Write a program that asks the user to enter two numbers, x and y, and computes |x-y|/(x+y)."
      ]
    },
    {
      "cell_type": "code",
      "execution_count": 11,
      "metadata": {
        "id": "Zl2K3SwsqdXa",
        "outputId": "59776e5d-b920-42e0-fa66-382f1c972dcd",
        "colab": {
          "base_uri": "https://localhost:8080/"
        }
      },
      "outputs": [
        {
          "output_type": "stream",
          "name": "stdout",
          "text": [
            "Enter value of x: 2\n",
            "Enter value of y: 3\n",
            "result of two numbers:  0.2\n"
          ]
        }
      ],
      "source": [
        "x = int(input (\"Enter value of x: \"))\n",
        "y = int(input (\"Enter value of y: \"))\n",
        "result = abs(x-y)/(x + y)\n",
        "print(\"result of two numbers: \", result)"
      ]
    },
    {
      "cell_type": "markdown",
      "metadata": {
        "id": "0W_kOEXkqdXa"
      },
      "source": [
        "# Ex 9: Computing\n",
        "\n",
        "Write a program that asks the user for a number of seconds and prints out how many minutes and seconds that is. For instance, 200 seconds is 3 minutes and 20 seconds."
      ]
    },
    {
      "cell_type": "code",
      "execution_count": 12,
      "metadata": {
        "id": "nrqu9rQEqdXa",
        "outputId": "59aafd65-f52f-4891-c956-4bdd3933d7d8",
        "colab": {
          "base_uri": "https://localhost:8080/"
        }
      },
      "outputs": [
        {
          "output_type": "stream",
          "name": "stdout",
          "text": [
            "Enter number of seconds to compute :125\n",
            "result will be 2 minutes and 5 seconds\n"
          ]
        }
      ],
      "source": [
        "number_of_seconds =  int(input (\"Enter number of seconds to compute :\"))\n",
        "minutes = int(number_of_seconds // 60)\n",
        "seconds = int(number_of_seconds % 60) #modulo for seconds\n",
        "\n",
        "print(\"result will be {} minutes and {} seconds\".format(minutes, seconds))"
      ]
    },
    {
      "cell_type": "markdown",
      "metadata": {
        "id": "s1Ux4R_BqdXa"
      },
      "source": [
        "# Ex 10: Using Math Module\n",
        "\n",
        "Write a program that asks the user for a number and then prints out the sine, cosine, and tangent of that number."
      ]
    },
    {
      "cell_type": "code",
      "execution_count": 13,
      "metadata": {
        "id": "RbJ46yxMqdXa",
        "outputId": "4004a789-1652-456a-8aea-562ec3efe326",
        "colab": {
          "base_uri": "https://localhost:8080/"
        }
      },
      "outputs": [
        {
          "output_type": "stream",
          "name": "stdout",
          "text": [
            "Enter a number:22\n",
            "-0.008851309290403876\n",
            "Enter a number: 22\n",
            "-0.008851309290403876\n",
            "-0.9999608263946371\n",
            "0.00885165604168446\n"
          ]
        }
      ],
      "source": [
        "import math\n",
        "num = float(input(\"Enter a number:\"))\n",
        "sine_value = math.sin(num)\n",
        "print(sine_value)\n",
        "\n",
        "import math\n",
        "num = float(input (\"Enter a number: \"))\n",
        "sine_value = math.sin(num)\n",
        "print(sine_value)\n",
        "cos_value = math.cos(num)\n",
        "print(cos_value)\n",
        "tan_value = math.tan(num)\n",
        "print(tan_value)\n"
      ]
    }
  ],
  "metadata": {
    "colab": {
      "name": "Ex1_Python.ipynb",
      "provenance": [],
      "include_colab_link": true
    },
    "kernelspec": {
      "display_name": "Python 3",
      "language": "python",
      "name": "python3"
    },
    "language_info": {
      "codemirror_mode": {
        "name": "ipython",
        "version": 3
      },
      "file_extension": ".py",
      "mimetype": "text/x-python",
      "name": "python",
      "nbconvert_exporter": "python",
      "pygments_lexer": "ipython3",
      "version": "3.12.1"
    }
  },
  "nbformat": 4,
  "nbformat_minor": 0
}