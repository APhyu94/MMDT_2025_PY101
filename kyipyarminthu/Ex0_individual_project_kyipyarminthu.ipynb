{
 "cells": [
  {
   "cell_type": "markdown",
   "metadata": {},
   "source": [
    "1) Write a Python program in the below cell to create a dictionary that count the frequency of words in the string given in Q1.txt. Find the most frequent occured word.\n",
    "\n",
    "Don't remove the comment lines provided. "
   ]
  },
  {
   "cell_type": "code",
   "execution_count": null,
   "metadata": {},
   "outputs": [
    {
     "ename": "FileNotFoundError",
     "evalue": "[Errno 2] No such file or directory: './data/Q1.txt'",
     "output_type": "error",
     "traceback": [
      "\u001b[31m---------------------------------------------------------------------------\u001b[39m",
      "\u001b[31mFileNotFoundError\u001b[39m                         Traceback (most recent call last)",
      "\u001b[36mCell\u001b[39m\u001b[36m \u001b[39m\u001b[32mIn[1]\u001b[39m\u001b[32m, line 2\u001b[39m\n\u001b[32m      1\u001b[39m \u001b[38;5;66;03m#step 1: read content from Q1.txt \u001b[39;00m\n\u001b[32m----> \u001b[39m\u001b[32m2\u001b[39m \u001b[38;5;28;01mwith\u001b[39;00m \u001b[38;5;28;43mopen\u001b[39;49m\u001b[43m(\u001b[49m\u001b[33;43m'\u001b[39;49m\u001b[33;43m./data/Q1.txt\u001b[39;49m\u001b[33;43m'\u001b[39;49m\u001b[43m,\u001b[49m\u001b[43m \u001b[49m\u001b[33;43m'\u001b[39;49m\u001b[33;43mr\u001b[39;49m\u001b[33;43m'\u001b[39;49m\u001b[43m)\u001b[49m \u001b[38;5;28;01mas\u001b[39;00m file1:\n\u001b[32m      3\u001b[39m     word_string = file1.read()\n\u001b[32m      5\u001b[39m \u001b[38;5;66;03m#step 2.1 - change the case to upper or lower. \u001b[39;00m\n",
      "\u001b[36mFile \u001b[39m\u001b[32m~\\AppData\\Roaming\\Python\\Python313\\site-packages\\IPython\\core\\interactiveshell.py:326\u001b[39m, in \u001b[36m_modified_open\u001b[39m\u001b[34m(file, *args, **kwargs)\u001b[39m\n\u001b[32m    319\u001b[39m \u001b[38;5;28;01mif\u001b[39;00m file \u001b[38;5;129;01min\u001b[39;00m {\u001b[32m0\u001b[39m, \u001b[32m1\u001b[39m, \u001b[32m2\u001b[39m}:\n\u001b[32m    320\u001b[39m     \u001b[38;5;28;01mraise\u001b[39;00m \u001b[38;5;167;01mValueError\u001b[39;00m(\n\u001b[32m    321\u001b[39m         \u001b[33mf\u001b[39m\u001b[33m\"\u001b[39m\u001b[33mIPython won\u001b[39m\u001b[33m'\u001b[39m\u001b[33mt let you open fd=\u001b[39m\u001b[38;5;132;01m{\u001b[39;00mfile\u001b[38;5;132;01m}\u001b[39;00m\u001b[33m by default \u001b[39m\u001b[33m\"\u001b[39m\n\u001b[32m    322\u001b[39m         \u001b[33m\"\u001b[39m\u001b[33mas it is likely to crash IPython. If you know what you are doing, \u001b[39m\u001b[33m\"\u001b[39m\n\u001b[32m    323\u001b[39m         \u001b[33m\"\u001b[39m\u001b[33myou can use builtins\u001b[39m\u001b[33m'\u001b[39m\u001b[33m open.\u001b[39m\u001b[33m\"\u001b[39m\n\u001b[32m    324\u001b[39m     )\n\u001b[32m--> \u001b[39m\u001b[32m326\u001b[39m \u001b[38;5;28;01mreturn\u001b[39;00m \u001b[43mio_open\u001b[49m\u001b[43m(\u001b[49m\u001b[43mfile\u001b[49m\u001b[43m,\u001b[49m\u001b[43m \u001b[49m\u001b[43m*\u001b[49m\u001b[43margs\u001b[49m\u001b[43m,\u001b[49m\u001b[43m \u001b[49m\u001b[43m*\u001b[49m\u001b[43m*\u001b[49m\u001b[43mkwargs\u001b[49m\u001b[43m)\u001b[49m\n",
      "\u001b[31mFileNotFoundError\u001b[39m: [Errno 2] No such file or directory: './data/Q1.txt'"
     ]
    }
   ],
   "source": [
    "#step 1: read content from Q1.txt \n",
    "with open('./data/Q1.txt', 'r') as file1:\n",
    "    word_string = file1.read()\n",
    "    \n",
    "#step 2.1 - change the case to upper or lower. \n",
    "word_string=word_string.lower() \n",
    "\n",
    "#step 2.2 - remove pun : use replace\n",
    "for ch in [\":\"]:\n",
    "    word_string=word_string.replace(ch,\"\")\n",
    "\n",
    "#step 2.3 - split using space\n",
    "word_string=word_string.split()\n",
    "\n",
    "#Step 3: create a dictionary \n",
    "mydict={\"Name\" :\"Kyipyar\", \"Age\":\"25\",\"city\": \"Mandalay\"}\n",
    "#Step 4: find the most frequent occured one\n",
    "max_count = max(set(data) , key=data.count)\n",
    "\n",
    "\n",
    "    "
   ]
  },
  {
   "cell_type": "markdown",
   "metadata": {},
   "source": [
    "2) Write a Python program to read the name from Q2.txt and create email using domain 'simons-rock.edu' and save the results as dictionary : {'name': 'name@simons-rock.edu'}.\n",
    "Please take note that your email should not include space or any special characters and all charcters should be in lowercase."
   ]
  },
  {
   "cell_type": "code",
   "execution_count": null,
   "metadata": {},
   "outputs": [],
   "source": [
    "#step 1: read Q2. txt into the list\n",
    "with open ('./data/Q2.txt', 'r') as names:\n",
    "    header = names.readline()\n",
    "    namelist = names.readlines()\n",
    "    \n",
    "#step 2: create email for each name in the list and save them in the dictionary\n",
    "# You need to do the necessary data cleaning \n",
    "# For example, removing the space and special characters if there is any, converting them to lower case\n",
    "email_dict={}\n",
    "for name_entry in namelist:\n",
    "    clean_name = name_entry.lower().strip()\n",
    "    clean_name = name_entry.replace(\" \", \".\")\n",
    "    email = clean_name +\"simons-rock.edu\"\n",
    "    email_dict[clean_name]=email"
   ]
  },
  {
   "cell_type": "markdown",
   "metadata": {},
   "source": [
    "3) Write a Python program for \"Guessing Game: Guess the Number Challenge\"\n",
    "\n",
    "Step 1: Use a random function to generate a number.\n",
    "\n",
    "##### Game starts.......\n",
    "\n",
    "Step 2: Prompt the user to guess an integer number. Provide a range if needed to give the user context for their guess.\n",
    "\n",
    "Step 3: Check the condition of the guessed number compared to the generated number and provide feedback accordingly. For example, if the guess is too high or too low, inform the user.\n",
    "\n",
    "Step 4.1: If the guess is incorrect, allow the user to guess again. Repeat this process for a maximum of 10 guesses.\n",
    "\n",
    "Step 4.2: If the user guesses the number correctly, inform them that they have won. Also, indicate how many guesses were needed before guessing correctly.\n",
    "\n",
    "Step 4.3: If the user exhausts all 10 guesses without guessing the correct number, say \"goodbye.\"\n",
    "\n",
    "##### Game ends ... \n",
    "\n",
    "Step 5: Regardless of winning or losing, ask the user if they want to play again. This ensures the program's continuity and gives the user the option to continue playing if they wish.\n"
   ]
  },
  {
   "cell_type": "code",
   "execution_count": 1,
   "metadata": {},
   "outputs": [
    {
     "name": "stdout",
     "output_type": "stream",
     "text": [
      "Game Starts\n",
      "Guess number between 1 to 100\n",
      "You can guess max 10 times\n",
      "Congratulations! You guessed the number in 1 times\n",
      "Game Ends\n",
      "Game Starts\n",
      "Guess number between 1 to 100\n",
      "You can guess max 10 times\n",
      "Congratulations! You guessed the number in 1 times\n",
      "Game Ends\n",
      "Game Starts\n",
      "Guess number between 1 to 100\n",
      "You can guess max 10 times\n",
      "It is too low\n",
      "It is too low\n",
      "Congratulations! You guessed the number in 3 times\n",
      "Game Ends\n",
      "Thank you for playing.\n"
     ]
    }
   ],
   "source": [
    "\n",
    "import random \n",
    "\n",
    "def play_game():\n",
    "    secret_number=random.randint(1,100)\n",
    "\n",
    "    print (\"Game Starts\")\n",
    "    print (\"Guess number between 1 to 100\")\n",
    "    print (\"You can guess max 10 times\")\n",
    "\n",
    "    attempt=1\n",
    "    while attempt <=10:\n",
    "            try :\n",
    "                guess=int(input( f\"Attempt {attempt}: Enter your guess: \"))\n",
    "            except ValueError :\n",
    "                print(\"Please enter vaild int number:\")\n",
    "                continue\n",
    "            if guess < secret_number:\n",
    "                print (\"It is too low\")\n",
    "            elif guess < secret_number:\n",
    "                print (\"It is too high\")\n",
    "            else:\n",
    "                print (f\"Congratulations! You guessed the number in {attempt} times\")\n",
    "                break\n",
    "            attempt+=1\n",
    "    else:\n",
    "            print(f\"Sorry! you used all attempt. The number is {secret_number}\")\n",
    "            print (\"Goodbye\")\n",
    "\n",
    "    print (\"Game Ends\")\n",
    "\n",
    "while True:\n",
    "\n",
    "    play_game()\n",
    "    play_again=input(\"Do you want to play again? (y/n)\")\n",
    "    if play_again != \"y\":\n",
    "        print (\"Thank you for playing.\")\n",
    "        break\n",
    "\n"
   ]
  }
 ],
 "metadata": {
  "kernelspec": {
   "display_name": "Python 3",
   "language": "python",
   "name": "python3"
  },
  "language_info": {
   "codemirror_mode": {
    "name": "ipython",
    "version": 3
   },
   "file_extension": ".py",
   "mimetype": "text/x-python",
   "name": "python",
   "nbconvert_exporter": "python",
   "pygments_lexer": "ipython3",
   "version": "3.13.3"
  }
 },
 "nbformat": 4,
 "nbformat_minor": 2
}
