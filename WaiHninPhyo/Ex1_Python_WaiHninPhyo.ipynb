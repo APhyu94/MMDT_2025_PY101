{
 "cells": [
  {
   "cell_type": "markdown",
   "metadata": {
    "colab_type": "text",
    "id": "view-in-github"
   },
   "source": [
    "<a href=\"https://colab.research.google.com/github/myothida/PythonProgramming/blob/main/Ex1_Python.ipynb\" target=\"_parent\"><img src=\"https://colab.research.google.com/assets/colab-badge.svg\" alt=\"Open In Colab\"/></a>"
   ]
  },
  {
   "cell_type": "markdown",
   "metadata": {
    "id": "thgO68_HZ0Aa"
   },
   "source": [
    "# Introduction"
   ]
  },
  {
   "cell_type": "markdown",
   "metadata": {
    "id": "PIh3i0c_Z_yP"
   },
   "source": [
    "This section introduces the Python Programming uisng Colab. Follow the instructions and complete the exercises."
   ]
  },
  {
   "cell_type": "markdown",
   "metadata": {
    "id": "gCw6SfeFZ78l"
   },
   "source": [
    "# Ex 1 : Check Version"
   ]
  },
  {
   "cell_type": "markdown",
   "metadata": {
    "id": "6Vm-27iLabjm"
   },
   "source": [
    "Using the below cell, Import the required library and check the version of the python in your environment. "
   ]
  },
  {
   "cell_type": "code",
   "execution_count": 2,
   "metadata": {
    "id": "PJDYHB4AXVdc"
   },
   "outputs": [
    {
     "data": {
      "text/plain": [
       "'3.12.4 | packaged by Anaconda, Inc. | (main, Jun 18 2024, 15:03:56) [MSC v.1929 64 bit (AMD64)]'"
      ]
     },
     "execution_count": 2,
     "metadata": {},
     "output_type": "execute_result"
    }
   ],
   "source": [
    "import sys\n",
    "sys.version"
   ]
  },
  {
   "cell_type": "markdown",
   "metadata": {
    "id": "5qTEiwGlawf5"
   },
   "source": [
    "# Ex2 : Convert Currency. "
   ]
  },
  {
   "cell_type": "markdown",
   "metadata": {
    "id": "XH8K1p0ypVCg"
   },
   "source": [
    "Write a program that asks the user for the amount in usd and converts it to British pounds. The exchange rate is from usd to BP is given as 0.82"
   ]
  },
  {
   "cell_type": "code",
   "execution_count": 4,
   "metadata": {
    "colab": {
     "base_uri": "https://localhost:8080/"
    },
    "id": "x9xQXOnRa0MS",
    "outputId": "64294c78-0769-4728-f781-9204a1aa51e3"
   },
   "outputs": [
    {
     "name": "stdin",
     "output_type": "stream",
     "text": [
      "Enter the amount in USD:  4500\n"
     ]
    },
    {
     "name": "stdout",
     "output_type": "stream",
     "text": [
      "4500 usd is equivalent to 3690.0 british pound\n"
     ]
    }
   ],
   "source": [
    "usd_amount = input (\"Enter the amount in USD: \")\n",
    "bp_amount = int(usd_amount) *0.82\n",
    "print(\"{} usd is equivalent to {} british pound\".format(usd_amount, bp_amount))"
   ]
  },
  {
   "cell_type": "markdown",
   "metadata": {
    "id": "ePfECwUIpli4"
   },
   "source": [
    "# Ex 3: Temperature Converter"
   ]
  },
  {
   "cell_type": "markdown",
   "metadata": {
    "id": "Y60hUWDsp3pK"
   },
   "source": [
    "Write a program that convert temperature in Feranhite to celsius. "
   ]
  },
  {
   "cell_type": "code",
   "execution_count": 1,
   "metadata": {
    "id": "G9PbO6qPoUfn"
   },
   "outputs": [
    {
     "name": "stdin",
     "output_type": "stream",
     "text": [
      "Enter temperatre in F:  100\n"
     ]
    },
    {
     "name": "stdout",
     "output_type": "stream",
     "text": [
      "100 Feranhite is equal to 37.78 Celsius\n"
     ]
    }
   ],
   "source": [
    "temp_F = input(\"Enter temperatre in F: \")\n",
    "temp_C = (int(temp_F)-32)*5/9\n",
    "\n",
    "print(\"{} Feranhite is equal to {:.2f} Celsius\".format(temp_F, temp_C))"
   ]
  },
  {
   "cell_type": "markdown",
   "metadata": {
    "id": "a2kNRO9Vp7Qz"
   },
   "source": [
    "# Ex 4: Daily Maths"
   ]
  },
  {
   "cell_type": "markdown",
   "metadata": {
    "id": "lItKon9qqEUn"
   },
   "source": [
    "You are working in a retail shop. Write a program that computes the total cost for a customer that bought 3 differnt types of fruits : apple, orange, mango. Ask the user to enter the quantity and price for each type. "
   ]
  },
  {
   "cell_type": "code",
   "execution_count": 3,
   "metadata": {
    "id": "mIQFjH6wqDma"
   },
   "outputs": [
    {
     "name": "stdin",
     "output_type": "stream",
     "text": [
      "Enter number of apples :  10\n",
      "Price per apple:  5\n",
      "Enter number of oranges :  6\n",
      "Price per orange:  4\n",
      "Enter number of mangoes :  3\n",
      "Price per mango:  5\n"
     ]
    },
    {
     "name": "stdout",
     "output_type": "stream",
     "text": [
      "Total cost is :  89\n"
     ]
    }
   ],
   "source": [
    "apple_qty = input(\"Enter number of apples : \")\n",
    "apple_price = input (\"Price per apple: \")\n",
    "\n",
    "orange_qty = input(\"Enter number of oranges : \")\n",
    "orange_price = input (\"Price per orange: \")\n",
    "\n",
    "mango_qty = input(\"Enter number of mangoes : \")\n",
    "mango_price = input (\"Price per mango: \")\n",
    "\n",
    "total_cost = int(apple_qty)*int(apple_price) + int(orange_qty)*int(orange_price) + int(mango_qty)*int(mango_price)\n",
    "print(\"Total cost is : \", total_cost)"
   ]
  },
  {
   "cell_type": "markdown",
   "metadata": {
    "id": "31fXlmEQqgvW"
   },
   "source": [
    "# Ex 5 : Greeting"
   ]
  },
  {
   "cell_type": "markdown",
   "metadata": {
    "id": "zvnmj8MGrJIw"
   },
   "source": [
    "Write a program to greet the customer who provides the user name. Your program should ask the name of the customer and print \"Hello + customer name\""
   ]
  },
  {
   "cell_type": "code",
   "execution_count": 5,
   "metadata": {
    "id": "Z6ynxZMarIXh"
   },
   "outputs": [
    {
     "name": "stdin",
     "output_type": "stream",
     "text": [
      "Enter your name:  Hnin Phyo\n"
     ]
    },
    {
     "name": "stdout",
     "output_type": "stream",
     "text": [
      "Hello Hnin Phyo\n"
     ]
    }
   ],
   "source": [
    "name = input (\"Enter your name: \")\n",
    "print(\"Hello \" + name)"
   ]
  },
  {
   "cell_type": "markdown",
   "metadata": {},
   "source": [
    "# Ex 6: Random Number\n",
    "Write a program that generates a random number, x, between 1 and 50, a random number y between 2 and 5, and computes x^y."
   ]
  },
  {
   "cell_type": "code",
   "execution_count": 7,
   "metadata": {},
   "outputs": [
    {
     "name": "stdout",
     "output_type": "stream",
     "text": [
      "A random number between 1 and 10:  6\n"
     ]
    }
   ],
   "source": [
    "from random import randint\n",
    "x = randint(1,10)\n",
    "print('A random number between 1 and 10: ', x)"
   ]
  },
  {
   "cell_type": "markdown",
   "metadata": {},
   "source": [
    "# Ex 7: Greet many times.\n",
    "Write a program that generates a random number between 1 and 10 and prints your name that many times."
   ]
  },
  {
   "cell_type": "code",
   "execution_count": 99,
   "metadata": {},
   "outputs": [
    {
     "name": "stdin",
     "output_type": "stream",
     "text": [
      "Enter your name Wai\n"
     ]
    },
    {
     "name": "stdout",
     "output_type": "stream",
     "text": [
      "Your Name: Wai\n",
      "Your Name: Wai\n",
      "Your Name: Wai\n"
     ]
    }
   ],
   "source": [
    "from random import randint\n",
    "x = randint(1,10)\n",
    "Your_name = input('Enter your name')\n",
    "\n",
    "for value in range(x):\n",
    "    print('Your Name:',Your_name)\n"
   ]
  },
  {
   "cell_type": "code",
   "execution_count": 91,
   "metadata": {},
   "outputs": [
    {
     "name": "stdout",
     "output_type": "stream",
     "text": [
      "1\n"
     ]
    }
   ],
   "source": [
    "from random import randint\n",
    "x = randint(1,10)\n",
    "print(x)"
   ]
  },
  {
   "cell_type": "markdown",
   "metadata": {},
   "source": [
    "# Ex 8: Computing. \n",
    "Write a program that asks the user to enter two numbers, x and y, and computes |x-y|/(x+y)."
   ]
  },
  {
   "cell_type": "code",
   "execution_count": 78,
   "metadata": {},
   "outputs": [
    {
     "name": "stdin",
     "output_type": "stream",
     "text": [
      "Enter x value: 100\n",
      "Enter y value: 200\n"
     ]
    },
    {
     "name": "stdout",
     "output_type": "stream",
     "text": [
      "computation: 0.3333333333333333\n"
     ]
    }
   ],
   "source": [
    "x = float(input('Enter x value:'))\n",
    "y = float(input('Enter y value:'))\n",
    "computation = abs(x-y)/(x+y)\n",
    "print('computation:',computation)"
   ]
  },
  {
   "cell_type": "markdown",
   "metadata": {},
   "source": [
    "# Ex 9: Computing\n",
    "\n",
    "Write a program that asks the user for a number of seconds and prints out how many minutes and seconds that is. For instance, 200 seconds is 3 minutes and 20 seconds."
   ]
  },
  {
   "cell_type": "code",
   "execution_count": 70,
   "metadata": {},
   "outputs": [
    {
     "name": "stdin",
     "output_type": "stream",
     "text": [
      "Enter Time seconds 6700\n"
     ]
    },
    {
     "name": "stdout",
     "output_type": "stream",
     "text": [
      "6700 seconds is 111 minutes and 40 seconds\n"
     ]
    }
   ],
   "source": [
    "seconds= int(input('Enter Time seconds'))\n",
    "minutes_cal = seconds//60 \n",
    "seconds_cal = seconds%60\n",
    "print(f'{seconds} seconds is {minutes_cal} minutes and {seconds_cal} seconds')"
   ]
  },
  {
   "cell_type": "markdown",
   "metadata": {},
   "source": [
    "# Ex 10: Using Math Module\n",
    "\n",
    "Write a program that asks the user for a number and then prints out the sine, cosine, and tangent of that number."
   ]
  },
  {
   "cell_type": "code",
   "execution_count": 76,
   "metadata": {},
   "outputs": [
    {
     "name": "stdin",
     "output_type": "stream",
     "text": [
      "Enter a number: 450\n"
     ]
    },
    {
     "name": "stdout",
     "output_type": "stream",
     "text": [
      "Sine: -0.6832837250355235\n",
      "Cosine: -0.7301529641805058\n",
      "Tangent: 0.9358090133927123\n"
     ]
    }
   ],
   "source": [
    "# import math\n",
    "num = float(input(\"Enter a number:\"))\n",
    "sine_value = math.sin(num)\n",
    "print('Sine:',sine_value)\n",
    "\n",
    "cosine_value = math.cos(num)\n",
    "print('Cosine:',cosine_value)\n",
    "\n",
    "tangent_value = math.tan(num)\n",
    "print('Tangent:',tangent_value)"
   ]
  }
 ],
 "metadata": {
  "colab": {
   "collapsed_sections": [],
   "include_colab_link": true,
   "name": "Ex1_Python.ipynb",
   "provenance": []
  },
  "kernelspec": {
   "display_name": "Python 3 (ipykernel)",
   "language": "python",
   "name": "python3"
  },
  "language_info": {
   "codemirror_mode": {
    "name": "ipython",
    "version": 3
   },
   "file_extension": ".py",
   "mimetype": "text/x-python",
   "name": "python",
   "nbconvert_exporter": "python",
   "pygments_lexer": "ipython3",
   "version": "3.12.4"
  }
 },
 "nbformat": 4,
 "nbformat_minor": 4
}
