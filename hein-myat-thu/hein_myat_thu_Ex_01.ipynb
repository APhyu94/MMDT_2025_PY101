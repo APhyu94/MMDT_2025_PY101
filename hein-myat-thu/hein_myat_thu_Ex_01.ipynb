{
  "cells": [
    {
      "cell_type": "markdown",
      "metadata": {
        "id": "thgO68_HZ0Aa"
      },
      "source": [
        "# Introduction"
      ]
    },
    {
      "cell_type": "markdown",
      "metadata": {
        "id": "PIh3i0c_Z_yP"
      },
      "source": [
        "This section introduces the Python Programming uisng Colab. Follow the instructions and complete the exercises."
      ]
    },
    {
      "cell_type": "markdown",
      "metadata": {
        "id": "gCw6SfeFZ78l"
      },
      "source": [
        "# Ex 1 : Check Version"
      ]
    },
    {
      "cell_type": "markdown",
      "metadata": {
        "id": "6Vm-27iLabjm"
      },
      "source": [
        "Using the below cell, Import the required library and check the version of the python in your environment."
      ]
    },
    {
      "cell_type": "code",
      "execution_count": 32,
      "metadata": {
        "id": "PJDYHB4AXVdc",
        "outputId": "ab31bd6e-6295-4578-da0c-8a38293397d6",
        "colab": {
          "base_uri": "https://localhost:8080/",
          "height": 35
        }
      },
      "outputs": [
        {
          "output_type": "execute_result",
          "data": {
            "text/plain": [
              "'3.11.12 (main, Apr  9 2025, 08:55:54) [GCC 11.4.0]'"
            ],
            "application/vnd.google.colaboratory.intrinsic+json": {
              "type": "string"
            }
          },
          "metadata": {},
          "execution_count": 32
        }
      ],
      "source": [
        "import sys\n",
        "sys.version\n",
        "\n"
      ]
    },
    {
      "cell_type": "markdown",
      "metadata": {
        "id": "5qTEiwGlawf5"
      },
      "source": [
        "# Ex2 : Convert Currency."
      ]
    },
    {
      "cell_type": "markdown",
      "metadata": {
        "id": "XH8K1p0ypVCg"
      },
      "source": [
        "Write a program that asks the user for the amount in usd and converts it to British pounds. The exchange rate is from usd to BP is given as 0.82"
      ]
    },
    {
      "cell_type": "code",
      "execution_count": 2,
      "metadata": {
        "colab": {
          "base_uri": "https://localhost:8080/"
        },
        "id": "x9xQXOnRa0MS",
        "outputId": "a64113f5-a568-413b-fa28-36c8c9781c0a"
      },
      "outputs": [
        {
          "output_type": "stream",
          "name": "stdout",
          "text": [
            "Enter the amount in USD: 27\n",
            "27 usd is equivalent to 22.139999999999997 british pound\n"
          ]
        }
      ],
      "source": [
        "usd_amount = input (\"Enter the amount in USD: \")\n",
        "bp_amount = int(usd_amount) *0.82\n",
        "print(\"{} usd is equivalent to {} british pound\".format(usd_amount, bp_amount))"
      ]
    },
    {
      "cell_type": "markdown",
      "metadata": {
        "id": "ePfECwUIpli4"
      },
      "source": [
        "# Ex 3: Temperature Converter"
      ]
    },
    {
      "cell_type": "markdown",
      "metadata": {
        "id": "Y60hUWDsp3pK"
      },
      "source": [
        "Write a program that convert temperature in Feranhite to celsius."
      ]
    },
    {
      "cell_type": "code",
      "execution_count": 19,
      "metadata": {
        "id": "G9PbO6qPoUfn",
        "outputId": "47c35dc7-fa22-4f57-e187-b635022cfad8",
        "colab": {
          "base_uri": "https://localhost:8080/"
        }
      },
      "outputs": [
        {
          "output_type": "stream",
          "name": "stdout",
          "text": [
            "Enter the temperature in Feranhite: 66rt\n",
            "Invalid input\n",
            "Please enter a valid number!\n",
            "Enter the temperature in Feranhite: ttynn\n",
            "Invalid input\n",
            "Please enter a valid number!\n",
            "Enter the temperature in Feranhite: 55\n",
            "55.0 Feranhite is equivalent to 12.78 Celsius.\n"
          ]
        }
      ],
      "source": [
        "while True:\n",
        "  temp = input(\"Enter the temperature in Feranhite: \")\n",
        "  try:\n",
        "    tem_F = float(temp)\n",
        "    tem_C = ((tem_F)-32)*5/9\n",
        "    print(f\"{tem_F} Feranhite is equivalent to {tem_C:.2f} Celsius.\")\n",
        "    break\n",
        "  except ValueError:\n",
        "     print(\"Invalid input\")\n",
        "     print(\"Please enter a valid number!\")\n",
        "\n"
      ]
    },
    {
      "cell_type": "markdown",
      "metadata": {
        "id": "a2kNRO9Vp7Qz"
      },
      "source": [
        "# Ex 4: Daily Maths"
      ]
    },
    {
      "cell_type": "markdown",
      "metadata": {
        "id": "lItKon9qqEUn"
      },
      "source": [
        "You are working in a retail shop. Write a program that computes the total cost for a customer that bought 3 differnt types of fruits : apple, orange, mango. Ask the user to enter the quantity and price for each type."
      ]
    },
    {
      "cell_type": "code",
      "execution_count": 27,
      "metadata": {
        "id": "mIQFjH6wqDma",
        "outputId": "0e7e5fe3-bd9a-407d-f2e5-eafe5dfe1d60",
        "colab": {
          "base_uri": "https://localhost:8080/"
        }
      },
      "outputs": [
        {
          "output_type": "stream",
          "name": "stdout",
          "text": [
            "Available fruits & prices per unit:\n",
            "\n",
            "-Apple: $3.4\n",
            "\n",
            "-Banana: $2.4\n",
            "\n",
            "-Pineapple: $3.2\n",
            "\n",
            "-Grape: $4.0\n",
            "\n",
            "-Orange: $3.3\n",
            "\n",
            "-Mango: $3.6\n",
            "\n",
            "-------------------------------------\n",
            "\n",
            "Enter the fruits you want to buy (sperate with commas or spaces): apple banana orange\n",
            "\n",
            "How many Apples would you like?4\n",
            "\n",
            "-------------------------------------\n",
            "Apple x 4 = $13.60\n",
            "-------------------------------------\n",
            "\n",
            "How many Bananas would you like?2\n",
            "\n",
            "-------------------------------------\n",
            "Banana x 2 = $4.80\n",
            "-------------------------------------\n",
            "\n",
            "How many Oranges would you like?2\n",
            "\n",
            "-------------------------------------\n",
            "Orange x 2 = $6.60\n",
            "-------------------------------------\n",
            "\n",
            "-------------------------------------\n",
            "Total Cost: $25.00\n",
            "\n",
            "Thank you for shopping with us!\n",
            "-------------------------------------\n"
          ]
        }
      ],
      "source": [
        "\"\"\" i would like to do sth that show available fruits and prices frist, and then ask customer to type the item\n",
        "that they want to buy. And then ask for the qty and finally calculate the total cost.\n",
        "\"\"\"\n",
        "\n",
        "available_fruit_prices = {\n",
        "    \"apple\": 3.4,\n",
        "    \"banana\": 2.4,\n",
        "    \"pineapple\": 3.2,\n",
        "    \"grape\": 4.0,\n",
        "    \"orange\": 3.3,\n",
        "    \"mango\": 3.6\n",
        "}\n",
        "\n",
        "print(\"Available fruits & prices per unit:\")\n",
        "print()\n",
        "for fruit, price in available_fruit_prices.items():\n",
        "  print(f\"-{fruit.title()}: ${price}\")\n",
        "  print()\n",
        "print(\"-------------------------------------\")\n",
        "print()\n",
        "\n",
        "purchased_fruits = input(\"Enter the fruits you want to buy (sperate with commas or spaces): \")\n",
        "print()\n",
        "\n",
        "if \",\" not in purchased_fruits and \" \" not in purchased_fruits:\n",
        "  print(\"Please separate the fruits with commas or spaces!\")\n",
        "else:\n",
        "  if \",\" in purchased_fruits:\n",
        "    customer_fruits = purchased_fruits.split(\",\")\n",
        "  else:\n",
        "    customer_fruits = purchased_fruits.split(\" \")\n",
        "\n",
        "  # creating list based on customer input\n",
        "  purchased_list = []\n",
        "  for fruit in customer_fruits:\n",
        "    final_fruit = fruit.strip().lower()\n",
        "    purchased_list.append(final_fruit)\n",
        "\n",
        "\n",
        "  # start to calculate total cost\n",
        "  total_cost = 0\n",
        "  for fruit in purchased_list:\n",
        "    if fruit in available_fruit_prices:\n",
        "      while True:\n",
        "        try:\n",
        "          qty = int(input(f\"How many {fruit.title()}s would you like?\"))\n",
        "          print()\n",
        "          if qty <= 0:\n",
        "            print(\"Qty must be at least 1!\")\n",
        "            continue\n",
        "          break\n",
        "        except ValueError:\n",
        "          print(\"Invalid input. Please enter a valid number!\")\n",
        "\n",
        "      cost = qty * available_fruit_prices[fruit]\n",
        "      total_cost += cost\n",
        "      print(\"-------------------------------------\")\n",
        "      print(f\"{fruit.title()} x {qty} = ${cost:.2f}\")\n",
        "      print(\"-------------------------------------\")\n",
        "      print()\n",
        "    else:\n",
        "      print(f\"Sorry, {fruit.title()} is not available.\")\n",
        "      print()\n",
        "  print(\"-------------------------------------\")\n",
        "  print(f\"Total Cost: ${total_cost:.2f}\")\n",
        "  print()\n",
        "  print(\"Thank you for shopping with us!\")\n",
        "  print(\"-------------------------------------\")\n"
      ]
    },
    {
      "cell_type": "markdown",
      "metadata": {
        "id": "31fXlmEQqgvW"
      },
      "source": [
        "# Ex 5 : Greeting"
      ]
    },
    {
      "cell_type": "markdown",
      "metadata": {
        "id": "zvnmj8MGrJIw"
      },
      "source": [
        "Write a program to greet the customer who provides the user name. Your program should ask the name of the customer and print \"Hello + customer name\""
      ]
    },
    {
      "cell_type": "code",
      "execution_count": 53,
      "metadata": {
        "id": "Z6ynxZMarIXh",
        "outputId": "c05bb919-9dbe-44ca-89b6-1b5c85f629a7",
        "colab": {
          "base_uri": "https://localhost:8080/"
        }
      },
      "outputs": [
        {
          "output_type": "stream",
          "name": "stdout",
          "text": [
            "🎊🎊🎊🎊🎊🎊🎊🎊🎊🎊🎊🎊🎊🎊🎊\n",
            "Welcome to Dr Myo Thida Course!💻\n",
            "----------------------------------\n",
            "\n",
            "Enter your username(E.g., Henrick19): 111\n",
            "\n",
            "📌Enter a valid name❗️\n",
            "\n",
            "📌Username must have at least one alphabet and one digit️️❗️\n",
            "\n",
            "📌Avoid using spaces & special characters❗️\n",
            "\n",
            "----------------------------------\n",
            "Enter your username(E.g., Henrick19): Henrick19\n",
            "\n",
            "----------------------------------\n",
            "Hello Henrick19🎉\n",
            "----------------------------------\n"
          ]
        }
      ],
      "source": [
        "print(\"🎊🎊🎊🎊🎊🎊🎊🎊🎊🎊🎊🎊🎊🎊🎊\")\n",
        "print(\"Welcome to Dr Myo Thida Course!💻\")\n",
        "print(\"----------------------------------\")\n",
        "print()\n",
        "\n",
        "while True:\n",
        "  name = input(\"Enter your username(E.g., Henrick19): \").title()\n",
        "  print()\n",
        "  if name.isalnum() and any(word.isalpha() for word in name) and any(word.isdigit() for word in name):\n",
        "  # making sure there is at least one alpha and one digit (without spaces or special characters) in customer's user name\n",
        "    print(\"----------------------------------\")\n",
        "    print(f\"Hello {name}🎉\")\n",
        "    print(\"----------------------------------\")\n",
        "    break\n",
        "  else:\n",
        "    print(\"📌Enter a valid name❗️\")\n",
        "    print()\n",
        "    print(\"📌Username must have at least one alphabet and one digit️️❗️\")\n",
        "    print()\n",
        "    print(\"📌Avoid using spaces & special characters❗️\")\n",
        "    print()\n",
        "    print(\"----------------------------------\")\n",
        ""
      ]
    },
    {
      "cell_type": "markdown",
      "metadata": {
        "id": "LTSIBM76kfwa"
      },
      "source": [
        "# Ex 6: Random Number\n",
        "Write a program that generates a random number, x, between 1 and 50, a random number y between 2 and 5, and computes x^y."
      ]
    },
    {
      "cell_type": "code",
      "execution_count": 1,
      "metadata": {
        "id": "5ocrxN7_kfwa",
        "outputId": "812e7d64-1a04-458e-ebd7-7e6f80caf317",
        "colab": {
          "base_uri": "https://localhost:8080/"
        }
      },
      "outputs": [
        {
          "output_type": "stream",
          "name": "stdout",
          "text": [
            "A random number between 1 and 10:  7\n"
          ]
        }
      ],
      "source": [
        "from random import randint\n",
        "x = randint(1,10)\n",
        "print('A random number between 1 and 10: ', x)"
      ]
    },
    {
      "cell_type": "markdown",
      "metadata": {
        "id": "Y1QFh-5Rkfwa"
      },
      "source": [
        "# Ex 7: Greet many times.\n",
        "Write a program that generates a random number between 1 and 10 and prints your name that many times."
      ]
    },
    {
      "cell_type": "code",
      "execution_count": 60,
      "metadata": {
        "id": "A9Nqu2cVkfwa",
        "outputId": "6bab1ea1-200d-45bb-b0dc-e1c7f9168403",
        "colab": {
          "base_uri": "https://localhost:8080/"
        }
      },
      "outputs": [
        {
          "output_type": "stream",
          "name": "stdout",
          "text": [
            "Enter if name: hein myat thu\n",
            "\n",
            "Hello Hein Myat Thu\n",
            "---------------------\n",
            "Hello Hein Myat Thu\n",
            "---------------------\n",
            "Hello Hein Myat Thu\n",
            "---------------------\n",
            "Hello Hein Myat Thu\n",
            "---------------------\n",
            "Hello Hein Myat Thu\n",
            "---------------------\n",
            "Hello Hein Myat Thu\n",
            "---------------------\n",
            "Hello Hein Myat Thu\n",
            "---------------------\n"
          ]
        }
      ],
      "source": [
        "from random import randint\n",
        "x = randint(1,10)\n",
        "name = input(\"Enter if name: \").title()\n",
        "print()\n",
        "for i in range(x):\n",
        "  print(f\"Hello {name}\")\n",
        "  print(\"---------------------\")\n",
        "\n",
        "\n",
        "\n",
        "\n"
      ]
    },
    {
      "cell_type": "markdown",
      "metadata": {
        "id": "Gq5qusaNkfwa"
      },
      "source": [
        "# Ex 8: Computing.\n",
        "Write a program that asks the user to enter two numbers, x and y, and computes |x-y|/(x+y)."
      ]
    },
    {
      "cell_type": "code",
      "execution_count": 98,
      "metadata": {
        "id": "MjqGhGNukfwa",
        "outputId": "884e268b-3447-4932-de39-a917c52bff13",
        "colab": {
          "base_uri": "https://localhost:8080/"
        }
      },
      "outputs": [
        {
          "output_type": "stream",
          "name": "stdout",
          "text": [
            "Enter the 1st number: he\n",
            "Invalid input. Please enter a valid number.\n",
            "Enter the 1st number: -1\n",
            "Invalid input. Please enter a positive integer.\n",
            "Enter the 1st number: 0\n",
            "Invalid input. Please enter a positive integer.\n",
            "Enter the 1st number: 45\n",
            "Enter the 2st number: he\n",
            "Invalid input. Please enter a valid number.\n",
            "Enter the 2st number: -2\n",
            "Invalid input. Please enter a positive integer.\n",
            "Enter the 2st number: 0\n",
            "Invalid input. Please enter a positive integer.\n",
            "Enter the 2st number: he56\n",
            "Invalid input. Please enter a valid number.\n",
            "Enter the 2st number: 67\n",
            "\n",
            "--------------------------\n",
            "\n",
            "The result is -0.20\n",
            "\n",
            "--------------------------\n"
          ]
        }
      ],
      "source": [
        "while True:\n",
        "  try:\n",
        "    x = int(input(\"Enter the 1st number: \"))\n",
        "    if x <= 0:\n",
        "      print(\"Invalid input. Please enter a positive integer.\")\n",
        "      continue\n",
        "    break\n",
        "  except ValueError:\n",
        "    print(\"Invalid input. Please enter a valid number.\")\n",
        "\n",
        "while True:\n",
        "  try:\n",
        "    y = int(input(\"Enter the 2st number: \"))\n",
        "    if y <= 0:\n",
        "      print(\"Invalid input. Please enter a positive integer.\")\n",
        "      continue\n",
        "    break\n",
        "  except ValueError:\n",
        "    print(\"Invalid input. Please enter a valid number.\")\n",
        "\n",
        "\n",
        "print()\n",
        "print(\"--------------------------\")\n",
        "print()\n",
        "result = (x-y)/(x+y)\n",
        "print(f\"The result is {result:.2f}\")\n",
        "print()\n",
        "print(\"--------------------------\")\n",
        "\n",
        "\n"
      ]
    },
    {
      "cell_type": "markdown",
      "metadata": {
        "id": "ACwEcBv2kfwa"
      },
      "source": [
        "# Ex 9: Computing\n",
        "\n",
        "Write a program that asks the user for a number of seconds and prints out how many minutes and seconds that is. For instance, 200 seconds is 3 minutes and 20 seconds."
      ]
    },
    {
      "cell_type": "code",
      "execution_count": 104,
      "metadata": {
        "id": "AJ03T1fXkfwa",
        "outputId": "a5158070-4af6-45b9-d2a2-ab6876dd99cf",
        "colab": {
          "base_uri": "https://localhost:8080/"
        }
      },
      "outputs": [
        {
          "output_type": "stream",
          "name": "stdout",
          "text": [
            "Enter the number of seconds:0\n",
            "Please enter a positive number!\n",
            "Enter the number of seconds:-1\n",
            "Please enter a positive number!\n",
            "Enter the number of seconds:he\n",
            "Invalid input!\n",
            "Enter the number of seconds:3\n",
            "3 seconds is equivalent to 0 minutes and 3 seconds.\n"
          ]
        }
      ],
      "source": [
        "while True:\n",
        "  try:\n",
        "    sec = int(input(\"Enter the number of seconds:\"))\n",
        "    if sec <= 0:\n",
        "      print(\"Please enter a positive number!\")\n",
        "      continue\n",
        "    break\n",
        "  except ValueError:\n",
        "    print(\"Invalid input!\")\n",
        "\n",
        "minutes = sec // 60\n",
        "remaining_seconds = sec % 60\n",
        "print(f\"{sec} seconds is equivalent to {minutes} minutes and {remaining_seconds} seconds.\")\n",
        "\n",
        "\"\"\"\n",
        "if the user enters seconds in text, program will be crashed. That's why I used try and except\n",
        "which is more convenient than using if-else statement in this case..\n",
        "\"\"\""
      ]
    },
    {
      "cell_type": "markdown",
      "metadata": {
        "id": "Rir9EGd-kfwa"
      },
      "source": [
        "# Ex 10: Using Math Module\n",
        "\n",
        "Write a program that asks the user for a number and then prints out the sine, cosine, and tangent of that number."
      ]
    },
    {
      "cell_type": "code",
      "execution_count": 71,
      "metadata": {
        "id": "3AP79pM8kfwb",
        "outputId": "53436d3a-921d-4167-e29f-6ae742cf0b2c",
        "colab": {
          "base_uri": "https://localhost:8080/"
        }
      },
      "outputs": [
        {
          "output_type": "stream",
          "name": "stdout",
          "text": [
            "Enter a number:7.8\n",
            "0.998543345374605\n"
          ]
        }
      ],
      "source": [
        "import math\n",
        "num = float(input(\"Enter a number:\"))\n",
        "sine_value = math.sin(num)\n",
        "print(sine_value)\n"
      ]
    }
  ],
  "metadata": {
    "colab": {
      "name": "Ex1_Python.ipynb",
      "provenance": []
    },
    "kernelspec": {
      "display_name": "Python 3",
      "language": "python",
      "name": "python3"
    },
    "language_info": {
      "codemirror_mode": {
        "name": "ipython",
        "version": 3
      },
      "file_extension": ".py",
      "mimetype": "text/x-python",
      "name": "python",
      "nbconvert_exporter": "python",
      "pygments_lexer": "ipython3",
      "version": "3.12.1"
    }
  },
  "nbformat": 4,
  "nbformat_minor": 0
}