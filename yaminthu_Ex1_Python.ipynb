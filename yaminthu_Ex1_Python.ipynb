{
  "cells": [
    {
      "cell_type": "markdown",
      "metadata": {
        "id": "view-in-github",
        "colab_type": "text"
      },
      "source": [
        "<a href=\"https://colab.research.google.com/github/YaminThu9/MMDT_2025_PY101/blob/main/yaminthu_Ex1_Python.ipynb\" target=\"_parent\"><img src=\"https://colab.research.google.com/assets/colab-badge.svg\" alt=\"Open In Colab\"/></a>"
      ]
    },
    {
      "cell_type": "markdown",
      "metadata": {
        "id": "thgO68_HZ0Aa"
      },
      "source": [
        "# Introduction"
      ]
    },
    {
      "cell_type": "markdown",
      "metadata": {
        "id": "PIh3i0c_Z_yP"
      },
      "source": [
        "This section introduces the Python Programming uisng Colab. Follow the instructions and complete the exercises."
      ]
    },
    {
      "cell_type": "markdown",
      "metadata": {
        "id": "gCw6SfeFZ78l"
      },
      "source": [
        "# Ex 1 : Check Version"
      ]
    },
    {
      "cell_type": "markdown",
      "metadata": {
        "id": "6Vm-27iLabjm"
      },
      "source": [
        "Using the below cell, Import the required library and check the version of the python in your environment."
      ]
    },
    {
      "cell_type": "code",
      "execution_count": 2,
      "metadata": {
        "id": "PJDYHB4AXVdc"
      },
      "outputs": [],
      "source": [
        "import sys\n",
        "sys.version\n",
        "#Reference from Resources Lesson by Tr Myo"
      ]
    },
    {
      "cell_type": "markdown",
      "metadata": {
        "id": "5qTEiwGlawf5"
      },
      "source": [
        "# Ex2 : Convert Currency."
      ]
    },
    {
      "cell_type": "markdown",
      "metadata": {
        "id": "XH8K1p0ypVCg"
      },
      "source": [
        "Write a program that asks the user for the amount in usd and converts it to British pounds. The exchange rate is from usd to BP is given as 0.82"
      ]
    },
    {
      "cell_type": "code",
      "execution_count": 1,
      "metadata": {
        "colab": {
          "base_uri": "https://localhost:8080/"
        },
        "id": "x9xQXOnRa0MS",
        "outputId": "17ab9c9e-01b3-4245-90b9-fd12b2991407"
      },
      "outputs": [
        {
          "output_type": "stream",
          "name": "stdout",
          "text": [
            "Enter the amount in USD: 2000\n",
            "2000 usd is equivalent to 1640.0 british pound\n"
          ]
        }
      ],
      "source": [
        "usd_amount = input (\"Enter the amount in USD: \")\n",
        "bp_amount = int(usd_amount) *0.82\n",
        "print(\"{} usd is equivalent to {} british pound\".format(usd_amount, bp_amount))"
      ]
    },
    {
      "cell_type": "markdown",
      "metadata": {
        "id": "ePfECwUIpli4"
      },
      "source": [
        "# Ex 3: Temperature Converter"
      ]
    },
    {
      "cell_type": "markdown",
      "metadata": {
        "id": "Y60hUWDsp3pK"
      },
      "source": [
        "Write a program that convert temperature in Feranhite to celsius."
      ]
    },
    {
      "cell_type": "code",
      "execution_count": 4,
      "metadata": {
        "id": "G9PbO6qPoUfn",
        "colab": {
          "base_uri": "https://localhost:8080/"
        },
        "outputId": "05bc9c40-7664-489a-b7d8-1bb0cc1e2f7b"
      },
      "outputs": [
        {
          "output_type": "stream",
          "name": "stdout",
          "text": [
            "Enter the temperature in Feranhite: 35.5\n",
            "35.5°F  is equivalent to 1.9444444444444444°C\n"
          ]
        }
      ],
      "source": [
        "faranhite_temp = float(input (\"Enter the temperature in Feranhite: \"))\n",
        "celsius_temp = (faranhite_temp-32)*5/9\n",
        "print(\"{}°F  is equivalent to {}°C\".format(faranhite_temp,celsius_temp))"
      ]
    },
    {
      "cell_type": "markdown",
      "metadata": {
        "id": "a2kNRO9Vp7Qz"
      },
      "source": [
        "# Ex 4: Daily Maths"
      ]
    },
    {
      "cell_type": "markdown",
      "metadata": {
        "id": "lItKon9qqEUn"
      },
      "source": [
        "You are working in a retail shop. Write a program that computes the total cost for a customer that bought 3 differnt types of fruits : apple, orange, mango. Ask the user to enter the quantity and price for each type."
      ]
    },
    {
      "cell_type": "code",
      "execution_count": 15,
      "metadata": {
        "id": "mIQFjH6wqDma",
        "colab": {
          "base_uri": "https://localhost:8080/"
        },
        "outputId": "911862dd-5f11-42bb-d3f1-c35534afdc05"
      },
      "outputs": [
        {
          "output_type": "stream",
          "name": "stdout",
          "text": [
            "Enter quantity of apples: 10\n",
            "Enter price per apple: 100\n",
            "Enter quantity of oranges: 10\n",
            "Enter price per orange: 50\n",
            "Enter quantity of mangoes: 10\n",
            "Enter price per mango: 20\n",
            "Total cost is: {1700}\n"
          ]
        }
      ],
      "source": [
        "apple_qty = int(input(\"Enter quantity of apples: \"))\n",
        "apple_price = int(input(\"Enter price per apple: \"))\n",
        "\n",
        "orange_qty = int(input(\"Enter quantity of oranges: \"))\n",
        "orange_price = int(input(\"Enter price per orange: \"))\n",
        "\n",
        "mango_qty = int(input(\"Enter quantity of mangoes: \"))\n",
        "mango_price = int(input(\"Enter price per mango: \"))\n",
        "\n",
        "\n",
        "total = (apple_qty * apple_price) + (orange_qty * orange_price) + (mango_qty * mango_price)\n",
        "\n",
        "print(\"Total cost is:\", {total})"
      ]
    },
    {
      "cell_type": "markdown",
      "metadata": {
        "id": "31fXlmEQqgvW"
      },
      "source": [
        "# Ex 5 : Greeting"
      ]
    },
    {
      "cell_type": "markdown",
      "metadata": {
        "id": "zvnmj8MGrJIw"
      },
      "source": [
        "Write a program to greet the customer who provides the user name. Your program should ask the name of the customer and print \"Hello + customer name\""
      ]
    },
    {
      "cell_type": "code",
      "execution_count": 19,
      "metadata": {
        "id": "Z6ynxZMarIXh",
        "colab": {
          "base_uri": "https://localhost:8080/"
        },
        "outputId": "a5ed5ae5-e3e7-4634-8df2-8f4952125b5f"
      },
      "outputs": [
        {
          "output_type": "stream",
          "name": "stdout",
          "text": [
            "Enter the name: Nora\n",
            "Hello Nora\n"
          ]
        }
      ],
      "source": [
        "customer_name = input(\"Enter the name: \")\n",
        "print(\"Hello \" + customer_name)"
      ]
    },
    {
      "cell_type": "markdown",
      "metadata": {
        "id": "TorSbeALUS10"
      },
      "source": [
        "# Ex 6: Random Number\n",
        "Write a program that generates a random number, x, between 1 and 50, a random number y between 2 and 5, and computes x^y."
      ]
    },
    {
      "cell_type": "code",
      "execution_count": null,
      "metadata": {
        "id": "ZqU8ttB7US10"
      },
      "outputs": [],
      "source": [
        "from random import randint\n",
        "x = randint(1,10)\n",
        "print('A random number between 1 and 10: ', x)"
      ]
    },
    {
      "cell_type": "markdown",
      "metadata": {
        "id": "_xk4XRp5US10"
      },
      "source": [
        "# Ex 7: Greet many times.\n",
        "Write a program that generates a random number between 1 and 10 and prints your name that many times."
      ]
    },
    {
      "cell_type": "code",
      "execution_count": 29,
      "metadata": {
        "colab": {
          "base_uri": "https://localhost:8080/"
        },
        "id": "CcoOZaCNUS10",
        "outputId": "27f120fa-d162-4b35-89d0-87a8d2a6bbbf"
      },
      "outputs": [
        {
          "output_type": "stream",
          "name": "stdout",
          "text": [
            "Enter your name: yamin\n",
            "yamin\n",
            "yamin\n",
            "yamin\n",
            "yamin\n"
          ]
        }
      ],
      "source": [
        "import random\n",
        "\n",
        "name = input(\"Enter your name: \")\n",
        "random_number = random.randint(1, 10)\n",
        "\n",
        "for _ in range(random_number):\n",
        "    print(name)\n",
        "\n",
        "    #Reference from google\n",
        "\n"
      ]
    },
    {
      "cell_type": "markdown",
      "metadata": {
        "id": "zevCLCD2US10"
      },
      "source": [
        "# Ex 8: Computing.\n",
        "Write a program that asks the user to enter two numbers, x and y, and computes |x-y|/(x+y)."
      ]
    },
    {
      "cell_type": "code",
      "execution_count": 28,
      "metadata": {
        "colab": {
          "base_uri": "https://localhost:8080/"
        },
        "id": "MXGjamBeUS10",
        "outputId": "ddaf6f08-fa21-4c77-8f67-e69dcc5548db"
      },
      "outputs": [
        {
          "output_type": "stream",
          "name": "stdout",
          "text": [
            "Enter the first number (x): 10\n",
            "Enter the second number (y): 20\n",
            "The result of |x - y| / (x + y) is: 0.3333\n"
          ]
        }
      ],
      "source": [
        "x = float(input(\"Enter the first number (x): \"))\n",
        "y = float(input(\"Enter the second number (y): \"))\n",
        "\n",
        "if x + y == 0:\n",
        "    print(\" Division not possible.\")\n",
        "else:\n",
        "   result = abs(x - y) / (x + y)\n",
        "   print(f\"The result of |x - y| / (x + y) is: {result:.4f}\")\n",
        "\n",
        "   #I'm zero level learner of progrmming thus I answer by searching in ChatGPt\n",
        ""
      ]
    },
    {
      "cell_type": "markdown",
      "metadata": {
        "id": "b9BdFSVlUS11"
      },
      "source": [
        "# Ex 9: Computing\n",
        "\n",
        "Write a program that asks the user for a number of seconds and prints out how many minutes and seconds that is. For instance, 200 seconds is 3 minutes and 20 seconds."
      ]
    },
    {
      "cell_type": "code",
      "execution_count": 24,
      "metadata": {
        "colab": {
          "base_uri": "https://localhost:8080/"
        },
        "id": "qlNjgtcrUS11",
        "outputId": "1873b298-a983-40fe-af72-35b143b846b9"
      },
      "outputs": [
        {
          "output_type": "stream",
          "name": "stdout",
          "text": [
            "Enter the number of second: 150\n",
            "150 seconds  is equivalent to 2minutes and 30seconds\n"
          ]
        }
      ],
      "source": [
        "number_of_second = int(input(\"Enter the number of second: \"))\n",
        "minute = number_of_second // 60\n",
        "second = number_of_second % 60\n",
        "\n",
        "print(\"{} seconds  is equivalent to {}minutes and {}seconds\".format(number_of_second,minute,second))\n"
      ]
    },
    {
      "cell_type": "markdown",
      "metadata": {
        "id": "Z8W-vPvKUS11"
      },
      "source": [
        "# Ex 10: Using Math Module\n",
        "\n",
        "Write a program that asks the user for a number and then prints out the sine, cosine, and tangent of that number."
      ]
    },
    {
      "cell_type": "code",
      "execution_count": 5,
      "metadata": {
        "colab": {
          "base_uri": "https://localhost:8080/"
        },
        "id": "mdqjBBjtUS11",
        "outputId": "086227c9-6ba5-464a-b2e6-409582385b7e"
      },
      "outputs": [
        {
          "output_type": "stream",
          "name": "stdout",
          "text": [
            "Enter a number:9\n",
            "0.4121184852417566\n"
          ]
        }
      ],
      "source": [
        "import math\n",
        "num = float(input(\"Enter a number:\"))\n",
        "sine_value = math.sin(num)\n",
        "print(sine_value)\n"
      ]
    }
  ],
  "metadata": {
    "colab": {
      "name": "Ex1_Python.ipynb",
      "provenance": [],
      "include_colab_link": true
    },
    "kernelspec": {
      "display_name": "Python 3",
      "language": "python",
      "name": "python3"
    },
    "language_info": {
      "codemirror_mode": {
        "name": "ipython",
        "version": 3
      },
      "file_extension": ".py",
      "mimetype": "text/x-python",
      "name": "python",
      "nbconvert_exporter": "python",
      "pygments_lexer": "ipython3",
      "version": "3.12.1"
    }
  },
  "nbformat": 4,
  "nbformat_minor": 0
}