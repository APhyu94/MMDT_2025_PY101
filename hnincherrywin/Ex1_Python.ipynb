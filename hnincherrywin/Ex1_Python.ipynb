{
  "cells": [
    {
      "cell_type": "markdown",
      "metadata": {
        "id": "view-in-github",
        "colab_type": "text"
      },
      "source": [
        "<a href=\"https://colab.research.google.com/github/hnincherrywin/MMDT_2025_PY101/blob/hnincherrywin/hnincherrywin/Ex1_Python.ipynb\" target=\"_parent\"><img src=\"https://colab.research.google.com/assets/colab-badge.svg\" alt=\"Open In Colab\"/></a>"
      ]
    },
    {
      "cell_type": "markdown",
      "metadata": {
        "id": "thgO68_HZ0Aa"
      },
      "source": [
        "# Introduction"
      ]
    },
    {
      "cell_type": "markdown",
      "metadata": {
        "id": "PIh3i0c_Z_yP"
      },
      "source": [
        "This section introduces the Python Programming uisng Colab. Follow the instructions and complete the exercises."
      ]
    },
    {
      "cell_type": "markdown",
      "metadata": {
        "id": "gCw6SfeFZ78l"
      },
      "source": [
        "# Ex 1 : Check Version"
      ]
    },
    {
      "cell_type": "markdown",
      "metadata": {
        "id": "6Vm-27iLabjm"
      },
      "source": [
        "Using the below cell, Import the required library and check the version of the python in your environment."
      ]
    },
    {
      "cell_type": "code",
      "execution_count": 9,
      "metadata": {
        "id": "PJDYHB4AXVdc",
        "outputId": "64c63c54-56d1-49f3-fbd6-6dd5a80bf368",
        "colab": {
          "base_uri": "https://localhost:8080/",
          "height": 35
        }
      },
      "outputs": [
        {
          "output_type": "execute_result",
          "data": {
            "text/plain": [
              "'3.11.12 (main, Apr  9 2025, 08:55:54) [GCC 11.4.0]'"
            ],
            "application/vnd.google.colaboratory.intrinsic+json": {
              "type": "string"
            }
          },
          "metadata": {},
          "execution_count": 9
        }
      ],
      "source": [
        "import sys\n",
        "sys.version\n"
      ]
    },
    {
      "cell_type": "markdown",
      "metadata": {
        "id": "5qTEiwGlawf5"
      },
      "source": [
        "# Ex2 : Convert Currency."
      ]
    },
    {
      "cell_type": "markdown",
      "metadata": {
        "id": "XH8K1p0ypVCg"
      },
      "source": [
        "Write a program that asks the user for the amount in usd and converts it to British pounds. The exchange rate is from usd to BP is given as 0.82"
      ]
    },
    {
      "cell_type": "code",
      "execution_count": 10,
      "metadata": {
        "colab": {
          "base_uri": "https://localhost:8080/"
        },
        "id": "x9xQXOnRa0MS",
        "outputId": "7eb3fef6-987e-41a5-8ba1-c351cd3281ee"
      },
      "outputs": [
        {
          "output_type": "stream",
          "name": "stdout",
          "text": [
            "Enter the amount in USD: 5500\n",
            "5500 usd is equivalent to 4510.0 british pound\n"
          ]
        }
      ],
      "source": [
        "usd_amount = input (\"Enter the amount in USD: \")\n",
        "bp_amount = int(usd_amount) *0.82\n",
        "print(\"{} usd is equivalent to {} british pound\".format(usd_amount, bp_amount))"
      ]
    },
    {
      "cell_type": "markdown",
      "metadata": {
        "id": "ePfECwUIpli4"
      },
      "source": [
        "# Ex 3: Temperature Converter"
      ]
    },
    {
      "cell_type": "markdown",
      "metadata": {
        "id": "Y60hUWDsp3pK"
      },
      "source": [
        "Write a program that convert temperature in Feranhite to celsius."
      ]
    },
    {
      "cell_type": "code",
      "execution_count": 11,
      "metadata": {
        "id": "G9PbO6qPoUfn",
        "outputId": "e1c43541-1afa-4f13-99c0-45968b9f9d94",
        "colab": {
          "base_uri": "https://localhost:8080/"
        }
      },
      "outputs": [
        {
          "output_type": "stream",
          "name": "stdout",
          "text": [
            "Enter temperatre in F: 56\n",
            "56.0 Feranhite is equal to 13.33 Celsius\n"
          ]
        }
      ],
      "source": [
        "#ask user the temperature in Fahrenheit\n",
        "temp_F = float(input(\"Enter temperatre in F: \"))\n",
        "#convert Fahrenheit to celcius\n",
        "temp_C = (int(temp_F)-32)*5/9\n",
        "#output\n",
        "print(\"{} Feranhite is equal to {:.2f} Celsius\".format(temp_F, temp_C))"
      ]
    },
    {
      "cell_type": "markdown",
      "metadata": {
        "id": "a2kNRO9Vp7Qz"
      },
      "source": [
        "# Ex 4: Daily Maths"
      ]
    },
    {
      "cell_type": "markdown",
      "metadata": {
        "id": "lItKon9qqEUn"
      },
      "source": [
        "You are working in a retail shop. Write a program that computes the total cost for a customer that bought 3 differnt types of fruits : apple, orange, mango. Ask the user to enter the quantity and price for each type."
      ]
    },
    {
      "cell_type": "code",
      "execution_count": 12,
      "metadata": {
        "id": "mIQFjH6wqDma",
        "outputId": "401e31e5-2613-4213-c80a-bbae1c5ad98c",
        "colab": {
          "base_uri": "https://localhost:8080/"
        }
      },
      "outputs": [
        {
          "output_type": "stream",
          "name": "stdout",
          "text": [
            "Welcome to Farm Fresh!!!\n",
            "\n",
            "What would you like to buy today?\n",
            "\n",
            "We have multiple options for fresh fruits.\n",
            "\n",
            "Here are the fruits we have:  {'mango', 'grape', 'orange', 'banana', 'apple'}\n",
            "Enter number of apples : 3\n",
            "Price per apple: 400\n",
            "Enter number of oranges : 5\n",
            "Price per orange: 500\n",
            "Enter number of mangoes : 6\n",
            "Price per mango: 1000\n",
            "Total cost is :  9700\n",
            "Thank you for buying with us. Have a great day!\n"
          ]
        }
      ],
      "source": [
        "print(\"Welcome to Farm Fresh!!!\\n\")\n",
        "print(\"What would you like to buy today?\\n\")\n",
        "print(\"We have multiple options for fresh fruits.\\n\")\n",
        "fruit_options = {\"apple\",\"banana\",\"orange\",\"grape\",\"mango\"\n",
        "}\n",
        "print(\"Here are the fruits we have: \", fruit_options)\n",
        "\n",
        "apple_qty = input(\"Enter number of apples : \")\n",
        "apple_price = input (\"Price per apple: \")\n",
        "\n",
        "orange_qty = input(\"Enter number of oranges : \")\n",
        "orange_price = input (\"Price per orange: \")\n",
        "\n",
        "mango_qty = input(\"Enter number of mangoes : \")\n",
        "mango_price = input (\"Price per mango: \")\n",
        "\n",
        "total_cost = int(apple_qty)*int(apple_price) + int(orange_qty)*int(orange_price) + int(mango_qty)*int(mango_price)\n",
        "print(\"Total cost is : \", total_cost)\n",
        "print(\"Thank you for buying with us. Have a great day!\")"
      ]
    },
    {
      "cell_type": "markdown",
      "metadata": {
        "id": "31fXlmEQqgvW"
      },
      "source": [
        "# Ex 5 : Greeting"
      ]
    },
    {
      "cell_type": "markdown",
      "metadata": {
        "id": "zvnmj8MGrJIw"
      },
      "source": [
        "Write a program to greet the customer who provides the user name. Your program should ask the name of the customer and print \"Hello + customer name\""
      ]
    },
    {
      "cell_type": "code",
      "execution_count": 13,
      "metadata": {
        "id": "Z6ynxZMarIXh",
        "outputId": "29bd150f-cbbc-41d5-e39c-6b6bc46157a2",
        "colab": {
          "base_uri": "https://localhost:8080/"
        }
      },
      "outputs": [
        {
          "output_type": "stream",
          "name": "stdout",
          "text": [
            "<3<3<3<3<3<3<3<3<3\n",
            " Hi user, Enter your name: Hnin\n",
            "Hello Hnin Welcome to Learn with Dr Myo Thida.\n"
          ]
        }
      ],
      "source": [
        "print(\"<3<3<3<3<3<3<3<3<3\")\n",
        "g=str(\"Welcome to Learn with Dr Myo Thida.\")\n",
        "\n",
        "name = input (\" Hi user, Enter your name: \")\n",
        "print(\"Hello \" + name, g )"
      ]
    },
    {
      "cell_type": "markdown",
      "metadata": {
        "id": "ve_kDTgzfP7V"
      },
      "source": [
        "# Ex 6: Random Number\n",
        "Write a program that generates a random number, x, between 1 and 50, a random number y between 2 and 5, and computes x^y."
      ]
    },
    {
      "cell_type": "code",
      "execution_count": 14,
      "metadata": {
        "id": "3Xu42nvUfP7W",
        "outputId": "95f852ed-8366-459a-ec7b-22b5b7e6493a",
        "colab": {
          "base_uri": "https://localhost:8080/"
        }
      },
      "outputs": [
        {
          "output_type": "stream",
          "name": "stdout",
          "text": [
            "A random number between 1 and 50:  38\n",
            "A random number between 2 and 5:  4\n",
            "152\n"
          ]
        }
      ],
      "source": [
        "from random import randint\n",
        "x = randint(1,50)\n",
        "print(\"A random number between 1 and 50: \", x)\n",
        "from random import randint\n",
        "y = randint(2,5)\n",
        "print('A random number between 2 and 5: ', y)\n",
        "print(x*y)"
      ]
    },
    {
      "cell_type": "markdown",
      "metadata": {
        "id": "uFU2UxKbfP7W"
      },
      "source": [
        "# Ex 7: Greet many times.\n",
        "Write a program that generates a random number between 1 and 10 and prints your name that many times."
      ]
    },
    {
      "cell_type": "code",
      "execution_count": 22,
      "metadata": {
        "id": "7kPqjKeMfP7W",
        "outputId": "4654c825-65f5-453f-f1f7-dbbb9444400f",
        "colab": {
          "base_uri": "https://localhost:8080/"
        }
      },
      "outputs": [
        {
          "output_type": "stream",
          "name": "stdout",
          "text": [
            "Enter your name: Hnin\n",
            "\n",
            "Hello Hnin\n",
            "Hello Hnin\n",
            "Hello Hnin\n",
            "Hello Hnin\n",
            "Hello Hnin\n"
          ]
        }
      ],
      "source": [
        "from random import randint\n",
        "x = randint(1,10)\n",
        "name = input(\"Enter your name: \").title()\n",
        "print()\n",
        "for i in range(x):\n",
        "  print(f\"Hello {name}\")\n",
        "\n",
        "\n"
      ]
    },
    {
      "cell_type": "markdown",
      "metadata": {
        "id": "bn54oQGRfP7W"
      },
      "source": [
        "# Ex 8: Computing.\n",
        "Write a program that asks the user to enter two numbers, x and y, and computes |x-y|/(x+y)."
      ]
    },
    {
      "cell_type": "code",
      "execution_count": 23,
      "metadata": {
        "id": "MVSiH2BufP7X",
        "outputId": "bea6918c-8dce-4a22-b52f-0c62681419e2",
        "colab": {
          "base_uri": "https://localhost:8080/"
        }
      },
      "outputs": [
        {
          "output_type": "stream",
          "name": "stdout",
          "text": [
            "Enter number for x: 15\n",
            "Enter number for y: 3\n",
            "The output result is  0.6666666666666666\n"
          ]
        }
      ],
      "source": [
        "x = float(input(\"Enter number for x: \"))\n",
        "y = float(input(\"Enter number for y: \"))\n",
        "output_result = (x-y)/(x+y)\n",
        "print(\"The output result is \",output_result)"
      ]
    },
    {
      "cell_type": "markdown",
      "metadata": {
        "id": "RYPy1CACfP7X"
      },
      "source": [
        "# Ex 9: Computing\n",
        "\n",
        "Write a program that asks the user for a number of seconds and prints out how many minutes and seconds that is. For instance, 200 seconds is 3 minutes and 20 seconds."
      ]
    },
    {
      "cell_type": "code",
      "execution_count": 24,
      "metadata": {
        "id": "g9jG2mprfP7X",
        "outputId": "1e9e405b-66ff-4d43-d0af-b4cc4ede45a3",
        "colab": {
          "base_uri": "https://localhost:8080/"
        }
      },
      "outputs": [
        {
          "output_type": "stream",
          "name": "stdout",
          "text": [
            "Hi! User Welcome to Time Converter\n",
            "Enter the number of seconds: 5500\n",
            "5500 seconds is 91 minutes and 40 seconds.\n"
          ]
        }
      ],
      "source": [
        "print(\"Hi! User Welcome to Time Converter\")\n",
        "total_seconds = int(input(\"Enter the number of seconds: \"))\n",
        "minutes = total_seconds // 60\n",
        "seconds = total_seconds % 60\n",
        "print(f\"{total_seconds} seconds is {minutes} minutes and {seconds} seconds.\")"
      ]
    },
    {
      "cell_type": "markdown",
      "metadata": {
        "id": "q5_qET5DfP7X"
      },
      "source": [
        "# Ex 10: Using Math Module\n",
        "\n",
        "Write a program that asks the user for a number and then prints out the sine, cosine, and tangent of that number."
      ]
    },
    {
      "cell_type": "code",
      "execution_count": 25,
      "metadata": {
        "id": "UmB_tMXGfP7X",
        "outputId": "139a6a78-7039-4d5f-95d0-c7a7abb8c65d",
        "colab": {
          "base_uri": "https://localhost:8080/"
        }
      },
      "outputs": [
        {
          "output_type": "stream",
          "name": "stdout",
          "text": [
            "Enter a number:4\n",
            "Sine of 4.0: -0.7568024953079282\n",
            "Cosine of 4.0: -0.6536436208636119\n"
          ]
        }
      ],
      "source": [
        "import math\n",
        "num = float(input(\"Enter a number:\"))\n",
        "sine = math.sin(num)\n",
        "cosine = math.cos(num)\n",
        "print(f\"Sine of {num}: {sine}\")\n",
        "print(f\"Cosine of {num}: {cosine}\")"
      ]
    }
  ],
  "metadata": {
    "colab": {
      "name": "Ex1_Python.ipynb",
      "provenance": [],
      "include_colab_link": true
    },
    "kernelspec": {
      "display_name": "Python 3",
      "language": "python",
      "name": "python3"
    },
    "language_info": {
      "codemirror_mode": {
        "name": "ipython",
        "version": 3
      },
      "file_extension": ".py",
      "mimetype": "text/x-python",
      "name": "python",
      "nbconvert_exporter": "python",
      "pygments_lexer": "ipython3",
      "version": "3.12.1"
    }
  },
  "nbformat": 4,
  "nbformat_minor": 0
}