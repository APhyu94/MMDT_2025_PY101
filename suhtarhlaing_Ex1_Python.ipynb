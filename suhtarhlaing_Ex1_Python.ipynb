{
  "cells": [
    {
      "cell_type": "markdown",
      "metadata": {
        "id": "view-in-github",
        "colab_type": "text"
      },
      "source": [
        "<a href=\"https://colab.research.google.com/github/suhturhlaing/MMDT_2025_PY101/blob/suhturhlaing/suhtarhlaing_Ex1_Python.ipynb\" target=\"_parent\"><img src=\"https://colab.research.google.com/assets/colab-badge.svg\" alt=\"Open In Colab\"/></a>"
      ]
    },
    {
      "cell_type": "markdown",
      "metadata": {
        "id": "thgO68_HZ0Aa"
      },
      "source": [
        "# Introduction"
      ]
    },
    {
      "cell_type": "markdown",
      "metadata": {
        "id": "PIh3i0c_Z_yP"
      },
      "source": [
        "This section introduces the Python Programming uisng Colab. Follow the instructions and complete the exercises."
      ]
    },
    {
      "cell_type": "markdown",
      "metadata": {
        "id": "gCw6SfeFZ78l"
      },
      "source": [
        "# Ex 1 : Check Version"
      ]
    },
    {
      "cell_type": "markdown",
      "metadata": {
        "id": "6Vm-27iLabjm"
      },
      "source": [
        "Using the below cell, Import the required library and check the version of the python in your environment."
      ]
    },
    {
      "cell_type": "code",
      "execution_count": null,
      "metadata": {
        "id": "PJDYHB4AXVdc",
        "outputId": "f4ccc4a9-0253-4ad7-d939-8471538f6f49",
        "colab": {
          "base_uri": "https://localhost:8080/",
          "height": 36
        }
      },
      "outputs": [
        {
          "output_type": "execute_result",
          "data": {
            "text/plain": [
              "'3.11.12 (main, Apr  9 2025, 08:55:54) [GCC 11.4.0]'"
            ],
            "application/vnd.google.colaboratory.intrinsic+json": {
              "type": "string"
            }
          },
          "metadata": {},
          "execution_count": 1
        }
      ],
      "source": [
        "import sys\n",
        "sys.version\n"
      ]
    },
    {
      "cell_type": "markdown",
      "metadata": {
        "id": "5qTEiwGlawf5"
      },
      "source": [
        "# Ex2 : Convert Currency."
      ]
    },
    {
      "cell_type": "markdown",
      "metadata": {
        "id": "XH8K1p0ypVCg"
      },
      "source": [
        "Write a program that asks the user for the amount in usd and converts it to British pounds. The exchange rate is from usd to BP is given as 0.82"
      ]
    },
    {
      "cell_type": "code",
      "execution_count": null,
      "metadata": {
        "id": "x9xQXOnRa0MS",
        "outputId": "7caf560b-a5c2-4bf9-d2b9-8a697b33a66b",
        "colab": {
          "base_uri": "https://localhost:8080/"
        }
      },
      "outputs": [
        {
          "output_type": "stream",
          "name": "stdout",
          "text": [
            "Enter the amount in USD: 2000\n",
            "2000 usd is equivalent to 1640.0 british pound\n"
          ]
        }
      ],
      "source": [
        "usd_amount = input (\"Enter the amount in USD: \")\n",
        "bp_amount = int(usd_amount) *0.82\n",
        "print(\"{} usd is equivalent to {} british pound\".format(usd_amount, bp_amount))"
      ]
    },
    {
      "cell_type": "markdown",
      "metadata": {
        "id": "ePfECwUIpli4"
      },
      "source": [
        "# Ex 3: Temperature Converter"
      ]
    },
    {
      "cell_type": "markdown",
      "metadata": {
        "id": "Y60hUWDsp3pK"
      },
      "source": [
        "Write a program that convert temperature in Feranhite to celsius."
      ]
    },
    {
      "cell_type": "code",
      "execution_count": null,
      "metadata": {
        "id": "G9PbO6qPoUfn",
        "outputId": "3b05f66e-4457-4193-9153-3abb7f73ddbd",
        "colab": {
          "base_uri": "https://localhost:8080/"
        }
      },
      "outputs": [
        {
          "output_type": "stream",
          "name": "stdout",
          "text": [
            "Enter the temperature in Fahrenheit: 68\n",
            "68.0 fahrenheit is equivalent to 20.0 celsius\n"
          ]
        }
      ],
      "source": [
        "fahrenheit = float(input (\"Enter the temperature in Fahrenheit: \"))\n",
        "celsius = (fahrenheit - 32) * 5 / 9\n",
        "print (\"{} fahrenheit is equivalent to {} celsius\".format(fahrenheit,celsius))\n",
        "\n",
        "#use AI because I didn't know fahrenheit to celsius calculation"
      ]
    },
    {
      "cell_type": "markdown",
      "metadata": {
        "id": "a2kNRO9Vp7Qz"
      },
      "source": [
        "# Ex 4: Daily Maths"
      ]
    },
    {
      "cell_type": "markdown",
      "metadata": {
        "id": "lItKon9qqEUn"
      },
      "source": [
        "You are working in a retail shop. Write a program that computes the total cost for a customer that bought 3 differnt types of fruits : apple, orange, mango. Ask the user to enter the quantity and price for each type."
      ]
    },
    {
      "cell_type": "code",
      "execution_count": null,
      "metadata": {
        "id": "mIQFjH6wqDma",
        "outputId": "2a481383-acbe-48e7-9a19-b4f8e8a11ce4",
        "colab": {
          "base_uri": "https://localhost:8080/"
        }
      },
      "outputs": [
        {
          "output_type": "stream",
          "name": "stdout",
          "text": [
            "Enter quantity of apples: 3\n",
            "Enter price per apple: 10\n",
            "Enter quantity of oranges: 4\n",
            "Enter price per orange: 30\n",
            "Enter quantity of mangoes: 5\n",
            "Enter price per mango: 30\n",
            "Total Amount for apple : 3 * 10.0 = 30.0 $ \n",
            "Total Amount for orange : 4 * 30.0 = 120.0 $ \n",
            "Total Amount for mango : 5 * 30.0 = 150.0 $ \n",
            "Total Amount : 300.0 $ \n"
          ]
        }
      ],
      "source": [
        "#for apple\n",
        "apple_quantity = int(input(\"Enter quantity of apples: \"))\n",
        "apple_price = float(input(\"Enter price per apple: \"))\n",
        "\n",
        "#for orange\n",
        "orange_quantity = int(input(\"Enter quantity of oranges: \"))\n",
        "orange_price = float(input(\"Enter price per orange: \"))\n",
        "\n",
        "#mango\n",
        "mango_quantity = int(input(\"Enter quantity of mangoes: \"))\n",
        "mango_price = float(input(\"Enter price per mango: \"))\n",
        "\n",
        "total_amount_apple = apple_quantity * apple_price\n",
        "total_amount_orange = orange_quantity * orange_price\n",
        "total_amount_mango = mango_quantity * mango_price\n",
        "\n",
        "Total_Amount = total_amount_apple + total_amount_orange + total_amount_mango\n",
        "\n",
        "print(\"Total Amount for apple : {} * {} = {} $ \".format(apple_quantity, apple_price,total_amount_apple ))\n",
        "print(\"Total Amount for orange : {} * {} = {} $ \".format(orange_quantity, orange_price,total_amount_orange ))\n",
        "print(\"Total Amount for mango : {} * {} = {} $ \".format(mango_quantity, mango_price,total_amount_mango ))\n",
        "print(\"Total Amount : {} $ \".format(Total_Amount))\n"
      ]
    },
    {
      "cell_type": "markdown",
      "metadata": {
        "id": "31fXlmEQqgvW"
      },
      "source": [
        "# Ex 5 : Greeting"
      ]
    },
    {
      "cell_type": "markdown",
      "metadata": {
        "id": "zvnmj8MGrJIw"
      },
      "source": [
        "Write a program to greet the customer who provides the user name. Your program should ask the name of the customer and print \"Hello + customer name\""
      ]
    },
    {
      "cell_type": "code",
      "execution_count": null,
      "metadata": {
        "id": "Z6ynxZMarIXh",
        "outputId": "e86c5312-c79b-44d5-977b-3d4adbc9050f",
        "colab": {
          "base_uri": "https://localhost:8080/"
        }
      },
      "outputs": [
        {
          "output_type": "stream",
          "name": "stdout",
          "text": [
            "Enter your name: Su Su\n",
            "Hello Su Su , Welcome from MMDT Python Class\n"
          ]
        }
      ],
      "source": [
        "name = input (\"Enter your name: \")\n",
        "print(\"Hello {} , Welcome from MMDT Python Class\".format(name))"
      ]
    },
    {
      "cell_type": "markdown",
      "metadata": {
        "id": "GHDFILVrRpn7"
      },
      "source": [
        "# Ex 6: Random Number\n",
        "Write a program that generates a random number, x, between 1 and 50, a random number y between 2 and 5, and computes x^y."
      ]
    },
    {
      "cell_type": "code",
      "execution_count": null,
      "metadata": {
        "id": "9X9kQZbTRpn7",
        "outputId": "3866d9e5-2537-401f-bd52-79835b6b11b3",
        "colab": {
          "base_uri": "https://localhost:8080/"
        }
      },
      "outputs": [
        {
          "output_type": "stream",
          "name": "stdout",
          "text": [
            "A random number x between 1 and 50:  5\n",
            "A random number y between 2 and 5:  4\n",
            "A random number of computes (x^y) :  625\n"
          ]
        }
      ],
      "source": [
        "from random import randint\n",
        "x = randint(1,50)\n",
        "y = randint(2,5)\n",
        "z = x ** y\n",
        "print('A random number x between 1 and 50: ', x)\n",
        "print('A random number y between 2 and 5: ', y)\n",
        "print('A random number of computes (x^y) : ', z)"
      ]
    },
    {
      "cell_type": "markdown",
      "metadata": {
        "id": "7KjY09t9Rpn7"
      },
      "source": [
        "# Ex 7: Greet many times.\n",
        "Write a program that generates a random number between 1 and 10 and prints your name that many times."
      ]
    },
    {
      "cell_type": "code",
      "execution_count": null,
      "metadata": {
        "id": "-uygb0YXRpn7",
        "outputId": "8a9be553-f4ee-49de-984a-3ad005ebcb49",
        "colab": {
          "base_uri": "https://localhost:8080/"
        }
      },
      "outputs": [
        {
          "output_type": "stream",
          "name": "stdout",
          "text": [
            "Random number is: 10\n",
            "Su Htar Hlaing\n",
            "Su Htar Hlaing\n",
            "Su Htar Hlaing\n",
            "Su Htar Hlaing\n",
            "Su Htar Hlaing\n",
            "Su Htar Hlaing\n",
            "Su Htar Hlaing\n",
            "Su Htar Hlaing\n",
            "Su Htar Hlaing\n",
            "Su Htar Hlaing\n"
          ]
        }
      ],
      "source": [
        "from random import randint\n",
        "x = randint(1,10)\n",
        "name = \"Su Htar Hlaing\"\n",
        "print(f\"Random number is: {x}\")\n",
        "for _ in range(x):\n",
        "    print(name)\n",
        "\n",
        "#use AI because to know about looping\n",
        "\n"
      ]
    },
    {
      "cell_type": "markdown",
      "metadata": {
        "id": "9AIpJwXVRpn7"
      },
      "source": [
        "# Ex 8: Computing.\n",
        "Write a program that asks the user to enter two numbers, x and y, and computes |x-y|/(x+y)."
      ]
    },
    {
      "cell_type": "code",
      "execution_count": null,
      "metadata": {
        "id": "XqXRHsAnRpn8",
        "outputId": "150599ab-2ea9-4f26-9ef9-19ef84e079b5",
        "colab": {
          "base_uri": "https://localhost:8080/"
        }
      },
      "outputs": [
        {
          "output_type": "stream",
          "name": "stdout",
          "text": [
            "Enter the number for x : 6\n",
            "Enter the number for y : 4\n",
            "The final of |x - y| / (x + y) is: 0.2\n"
          ]
        }
      ],
      "source": [
        "x = int(input (\"Enter the number for x : \"))\n",
        "y = int(input (\"Enter the number for y : \"))\n",
        "\n",
        "z = x + y\n",
        "if z == 0:\n",
        "    print(\"Division by zero, so x + y is 0.\")\n",
        "else:\n",
        "    result = abs(x - y) / z\n",
        "    print(\"The final of |x - y| / (x + y) is: {}\".format(result))\n"
      ]
    },
    {
      "cell_type": "markdown",
      "metadata": {
        "id": "5bfterwqRpn8"
      },
      "source": [
        "# Ex 9: Computing\n",
        "\n",
        "Write a program that asks the user for a number of seconds and prints out how many minutes and seconds that is. For instance, 200 seconds is 3 minutes and 20 seconds."
      ]
    },
    {
      "cell_type": "code",
      "execution_count": null,
      "metadata": {
        "id": "0g2oOfOMRpn8",
        "outputId": "d137caa0-5f2e-4df1-b0b8-d540a60886eb",
        "colab": {
          "base_uri": "https://localhost:8080/"
        }
      },
      "outputs": [
        {
          "output_type": "stream",
          "name": "stdout",
          "text": [
            "Enter a number for seconds : 500\n",
            "8 is minutes and 20 is seconds\n"
          ]
        }
      ],
      "source": [
        "second = int(input(\"Enter a number for seconds : \"))\n",
        "if second >= 59:\n",
        "  y = second / 60\n",
        "  z = second % 60\n",
        "  print(\"{:.0f} is minutes and {} is seconds\".format(y,z))\n",
        "else:\n",
        "  y = second\n",
        "  print(\"{} is seconds\".format(y))\n"
      ]
    },
    {
      "cell_type": "markdown",
      "metadata": {
        "id": "rFLE0so1Rpn8"
      },
      "source": [
        "# Ex 10: Using Math Module\n",
        "\n",
        "Write a program that asks the user for a number and then prints out the sine, cosine, and tangent of that number."
      ]
    },
    {
      "cell_type": "code",
      "execution_count": null,
      "metadata": {
        "id": "hJ59zW0ARpn8",
        "outputId": "22a9f69c-43aa-44be-cb11-cdc53cc5f703",
        "colab": {
          "base_uri": "https://localhost:8080/"
        }
      },
      "outputs": [
        {
          "output_type": "stream",
          "name": "stdout",
          "text": [
            "Enter a number:50\n",
            "Number 50.0 of sin_value is -0.26\n",
            "Number 50.0 of cosine_val is 0.96\n",
            "Number 50.0 of tangent_val is -0.27\n"
          ]
        }
      ],
      "source": [
        "import math\n",
        "num = float(input(\"Enter a number:\"))\n",
        "sine_value = math.sin(num)\n",
        "cosine_val = math.cos(num)\n",
        "tangent_val = math.tan(num)\n",
        "\n",
        "print(\"Number {} of sin_value is {:.2f}\".format(num,sine_value))\n",
        "print(\"Number {} of cosine_val is {:.2f}\".format(num,cosine_val))\n",
        "print(\"Number {} of tangent_val is {:.2f}\".format(num,tangent_val))\n"
      ]
    }
  ],
  "metadata": {
    "colab": {
      "name": "Ex1_Python.ipynb",
      "provenance": [],
      "include_colab_link": true
    },
    "kernelspec": {
      "display_name": "Python 3",
      "language": "python",
      "name": "python3"
    },
    "language_info": {
      "codemirror_mode": {
        "name": "ipython",
        "version": 3
      },
      "file_extension": ".py",
      "mimetype": "text/x-python",
      "name": "python",
      "nbconvert_exporter": "python",
      "pygments_lexer": "ipython3",
      "version": "3.12.1"
    }
  },
  "nbformat": 4,
  "nbformat_minor": 0
}