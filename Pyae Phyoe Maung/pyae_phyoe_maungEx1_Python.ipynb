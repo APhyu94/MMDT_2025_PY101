{
 "cells": [
  {
   "cell_type": "markdown",
   "metadata": {
    "colab_type": "text",
    "id": "view-in-github"
   },
   "source": [
    "<a href=\"https://colab.research.google.com/github/myothida/PythonProgramming/blob/main/Ex1_Python.ipynb\" target=\"_parent\"><img src=\"https://colab.research.google.com/assets/colab-badge.svg\" alt=\"Open In Colab\"/></a>"
   ]
  },
  {
   "cell_type": "markdown",
   "metadata": {
    "id": "thgO68_HZ0Aa"
   },
   "source": [
    "# Introduction"
   ]
  },
  {
   "cell_type": "markdown",
   "metadata": {
    "id": "PIh3i0c_Z_yP"
   },
   "source": [
    "This section introduces the Python Programming uisng Colab. Follow the instructions and complete the exercises."
   ]
  },
  {
   "cell_type": "markdown",
   "metadata": {
    "id": "gCw6SfeFZ78l"
   },
   "source": [
    "# Ex 1 : Check Version"
   ]
  },
  {
   "cell_type": "markdown",
   "metadata": {
    "id": "6Vm-27iLabjm"
   },
   "source": [
    "Using the below cell, Import the required library and check the version of the python in your environment. "
   ]
  },
  {
   "cell_type": "code",
   "execution_count": 14,
   "metadata": {
    "id": "PJDYHB4AXVdc"
   },
   "outputs": [
    {
     "name": "stdout",
     "output_type": "stream",
     "text": [
      "3.13.2 (tags/v3.13.2:4f8bb39, Feb  4 2025, 15:23:48) [MSC v.1942 64 bit (AMD64)]\n"
     ]
    }
   ],
   "source": [
    "import sys\n",
    "print(sys.version)"
   ]
  },
  {
   "cell_type": "markdown",
   "metadata": {
    "id": "5qTEiwGlawf5"
   },
   "source": [
    "# Ex2 : Convert Currency. "
   ]
  },
  {
   "cell_type": "markdown",
   "metadata": {
    "id": "XH8K1p0ypVCg"
   },
   "source": [
    "Write a program that asks the user for the amount in usd and converts it to British pounds. The exchange rate is from usd to BP is given as 0.82"
   ]
  },
  {
   "cell_type": "code",
   "execution_count": 15,
   "metadata": {
    "colab": {
     "base_uri": "https://localhost:8080/"
    },
    "id": "x9xQXOnRa0MS",
    "outputId": "64294c78-0769-4728-f781-9204a1aa51e3"
   },
   "outputs": [
    {
     "name": "stdout",
     "output_type": "stream",
     "text": [
      "100USD is equivalent to 82.0Pound.\n"
     ]
    }
   ],
   "source": [
    "usd = input(\"Enter the amount in USD: \")\n",
    "bp = int(usd) * 0.82\n",
    "print(\"{}USD is equivalent to {}Pound.\".format(usd,bp))"
   ]
  },
  {
   "cell_type": "markdown",
   "metadata": {
    "id": "ePfECwUIpli4"
   },
   "source": [
    "# Ex 3: Temperature Converter"
   ]
  },
  {
   "cell_type": "markdown",
   "metadata": {
    "id": "Y60hUWDsp3pK"
   },
   "source": [
    "Write a program that convert temperature in Feranhite to celsius. "
   ]
  },
  {
   "cell_type": "code",
   "execution_count": 16,
   "metadata": {
    "id": "G9PbO6qPoUfn"
   },
   "outputs": [
    {
     "name": "stdout",
     "output_type": "stream",
     "text": [
      "100F is equivalent to 37.77777777777778C.\n"
     ]
    }
   ],
   "source": [
    "f_temp = input(\"Enter temperature in Fahrenheit: \")\n",
    "c_temp = (float(f_temp)- 32) * 5/9\n",
    "print(\"{}F is equivalent to {}C.\".format(f_temp,c_temp))"
   ]
  },
  {
   "cell_type": "markdown",
   "metadata": {
    "id": "a2kNRO9Vp7Qz"
   },
   "source": [
    "# Ex 4: Daily Maths"
   ]
  },
  {
   "cell_type": "markdown",
   "metadata": {
    "id": "lItKon9qqEUn"
   },
   "source": [
    "You are working in a retail shop. Write a program that computes the total cost for a customer that bought 3 differnt types of fruits : apple, orange, mango. Ask the user to enter the quantity and price for each type. "
   ]
  },
  {
   "cell_type": "code",
   "execution_count": 18,
   "metadata": {
    "id": "mIQFjH6wqDma"
   },
   "outputs": [
    {
     "name": "stdout",
     "output_type": "stream",
     "text": [
      "Total Price:  46000\n"
     ]
    }
   ],
   "source": [
    "apple_qty = input(\"Enter number of Apples: \")\n",
    "apple_price = input(\"Price per Apple: \")\n",
    "org_qty = input(\"Enter number of Oranges: \")\n",
    "org_price = input(\"Price per Orange: \")\n",
    "mango_qty = input(\"Enter number of Mangos: \")\n",
    "mango_price = input(\"Price per Mango: \")\n",
    "total_price = int(apple_price) * int(apple_qty) + int(org_price) * int(org_qty) + int(mango_price) * int(mango_qty)\n",
    "\n",
    "print(\"Total Price: \" , total_price)"
   ]
  },
  {
   "cell_type": "markdown",
   "metadata": {
    "id": "31fXlmEQqgvW"
   },
   "source": [
    "# Ex 5 : Greeting"
   ]
  },
  {
   "cell_type": "markdown",
   "metadata": {
    "id": "zvnmj8MGrJIw"
   },
   "source": [
    "Write a program to greet the customer who provides the user name. Your program should ask the name of the customer and print \"Hello + customer name\""
   ]
  },
  {
   "cell_type": "code",
   "execution_count": 1,
   "metadata": {
    "id": "Z6ynxZMarIXh"
   },
   "outputs": [
    {
     "name": "stdout",
     "output_type": "stream",
     "text": [
      "Hello Mbapyyae\n"
     ]
    }
   ],
   "source": [
    "name = input(\"Enter your name: \")\n",
    "print(\"Hello\", name)"
   ]
  },
  {
   "cell_type": "markdown",
   "metadata": {},
   "source": [
    "# Ex 6: Random Number\n",
    "Write a program that generates a random number, x, between 1 and 50, a random number y between 2 and 5, and computes x^y."
   ]
  },
  {
   "cell_type": "code",
   "execution_count": 3,
   "metadata": {},
   "outputs": [
    {
     "name": "stdout",
     "output_type": "stream",
     "text": [
      "The random number between 1 and 50: 35\n",
      "Ther random number between 2 and 5:  3\n"
     ]
    }
   ],
   "source": [
    "from random import randint\n",
    "x =  randint(1,50)\n",
    "y = randint(2,5)\n",
    "print(\"The random number between 1 and 50:\", x)\n",
    "print(\"Ther random number between 2 and 5: \", y)"
   ]
  },
  {
   "cell_type": "markdown",
   "metadata": {},
   "source": [
    "# Ex 7: Greet many times.\n",
    "Write a program that generates a random number between 1 and 10 and prints your name that many times."
   ]
  },
  {
   "cell_type": "code",
   "execution_count": 5,
   "metadata": {},
   "outputs": [
    {
     "name": "stdout",
     "output_type": "stream",
     "text": [
      "Mbappyae\n",
      "Mbappyae\n"
     ]
    }
   ],
   "source": [
    "import random\n",
    "times = random.randint(1,10)\n",
    "for i in range (times):\n",
    "    print(\"Mbappyae\")"
   ]
  },
  {
   "cell_type": "markdown",
   "metadata": {},
   "source": [
    "# Ex 8: Computing. \n",
    "Write a program that asks the user to enter two numbers, x and y, and computes |x-y|/(x+y)."
   ]
  },
  {
   "cell_type": "code",
   "execution_count": 14,
   "metadata": {},
   "outputs": [
    {
     "name": "stdout",
     "output_type": "stream",
     "text": [
      "The result is:  0.3333333333333333\n"
     ]
    }
   ],
   "source": [
    "x = float(input(\"Enter the first number: \"))\n",
    "y = float(input(\"Enter the second number: \"))\n",
    "\n",
    "if x + y == 0:\n",
    "    print(\"Oops! x + y cannot be zero.\")\n",
    "else:\n",
    "    result = abs(x-y)/(x+y)\n",
    "    print(\"The result is: \", result)"
   ]
  },
  {
   "cell_type": "markdown",
   "metadata": {},
   "source": [
    "# Ex 9: Computing\n",
    "\n",
    "Write a program that asks the user for a number of seconds and prints out how many minutes and seconds that is. For instance, 200 seconds is 3 minutes and 20 seconds."
   ]
  },
  {
   "cell_type": "code",
   "execution_count": 10,
   "metadata": {},
   "outputs": [
    {
     "name": "stdout",
     "output_type": "stream",
     "text": [
      "400 seconds is 6 minutes and 40 seconds\n"
     ]
    }
   ],
   "source": [
    "total_seconds = int(input(\"Enter number of seconds: \"))\n",
    "minutes = total_seconds//60\n",
    "seconds = total_seconds%60\n",
    "\n",
    "print(\"{} seconds is {} minutes and {} seconds\".format(total_seconds,minutes,seconds))"
   ]
  },
  {
   "cell_type": "markdown",
   "metadata": {},
   "source": [
    "# Ex 10: Using Math Module\n",
    "\n",
    "Write a program that asks the user for a number and then prints out the sine, cosine, and tangent of that number."
   ]
  },
  {
   "cell_type": "code",
   "execution_count": 13,
   "metadata": {},
   "outputs": [
    {
     "name": "stdout",
     "output_type": "stream",
     "text": [
      "sin(1.0) = 0.84\n",
      "cos(1.0) = 0.54\n",
      "tan(1.0) = 1.56\n"
     ]
    }
   ],
   "source": [
    "import math\n",
    "num = float(input(\"Enter a number: \"))\n",
    "sine = math.sin(num)\n",
    "cosine = math.cos(num)\n",
    "tanget = math.tan(num)\n",
    "\n",
    "print(f\"sin({num}) = {sine:.2f}\")\n",
    "print(f\"cos({num}) = {cosine:.2f}\")\n",
    "print(f\"tan({num}) = {tanget:.2f}\")"
   ]
  }
 ],
 "metadata": {
  "colab": {
   "collapsed_sections": [],
   "include_colab_link": true,
   "name": "Ex1_Python.ipynb",
   "provenance": []
  },
  "kernelspec": {
   "display_name": "Python 3",
   "language": "python",
   "name": "python3"
  },
  "language_info": {
   "codemirror_mode": {
    "name": "ipython",
    "version": 3
   },
   "file_extension": ".py",
   "mimetype": "text/x-python",
   "name": "python",
   "nbconvert_exporter": "python",
   "pygments_lexer": "ipython3",
   "version": "3.13.2"
  }
 },
 "nbformat": 4,
 "nbformat_minor": 1
}
