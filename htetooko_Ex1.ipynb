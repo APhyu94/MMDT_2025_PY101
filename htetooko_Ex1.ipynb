{
  "cells": [
    {
      "cell_type": "markdown",
      "metadata": {
        "id": "view-in-github",
        "colab_type": "text"
      },
      "source": [
        "<a href=\"https://colab.research.google.com/github/Loriita/MMDT_2025_PY101/blob/htetooko/htetooko_Ex1.ipynb\" target=\"_parent\"><img src=\"https://colab.research.google.com/assets/colab-badge.svg\" alt=\"Open In Colab\"/></a>"
      ]
    },
    {
      "cell_type": "markdown",
      "metadata": {
        "id": "thgO68_HZ0Aa"
      },
      "source": [
        "# Introduction"
      ]
    },
    {
      "cell_type": "markdown",
      "metadata": {
        "id": "PIh3i0c_Z_yP"
      },
      "source": [
        "This section introduces the Python Programming uisng Colab. Follow the instructions and complete the exercises."
      ]
    },
    {
      "cell_type": "markdown",
      "metadata": {
        "id": "gCw6SfeFZ78l"
      },
      "source": [
        "# Ex 1 : Check Version"
      ]
    },
    {
      "cell_type": "markdown",
      "metadata": {
        "id": "6Vm-27iLabjm"
      },
      "source": [
        "Using the below cell, Import the required library and check the version of the python in your environment."
      ]
    },
    {
      "cell_type": "code",
      "execution_count": null,
      "metadata": {
        "id": "PJDYHB4AXVdc"
      },
      "outputs": [],
      "source": [
        "import sys\n",
        "sys.version"
      ]
    },
    {
      "cell_type": "markdown",
      "metadata": {
        "id": "5qTEiwGlawf5"
      },
      "source": [
        "# Ex2 : Convert Currency."
      ]
    },
    {
      "cell_type": "markdown",
      "metadata": {
        "id": "XH8K1p0ypVCg"
      },
      "source": [
        "Write a program that asks the user for the amount in usd and converts it to British pounds. The exchange rate is from usd to BP is given as 0.82"
      ]
    },
    {
      "cell_type": "code",
      "execution_count": 1,
      "metadata": {
        "colab": {
          "base_uri": "https://localhost:8080/"
        },
        "id": "x9xQXOnRa0MS",
        "outputId": "c7f220e7-d78f-487a-b075-91245ff61b65"
      },
      "outputs": [
        {
          "output_type": "stream",
          "name": "stdout",
          "text": [
            "Enter the amount in USD: 20\n",
            "20 usd is equivalent to 16.4 british pound\n"
          ]
        }
      ],
      "source": [
        "usd_amount = input (\"Enter the amount in USD: \")\n",
        "bp_amount = int(usd_amount) *0.82\n",
        "print(\"{} usd is equivalent to {} british pound\".format(usd_amount, bp_amount))"
      ]
    },
    {
      "cell_type": "markdown",
      "metadata": {
        "id": "ePfECwUIpli4"
      },
      "source": [
        "# Ex 3: Temperature Converter"
      ]
    },
    {
      "cell_type": "markdown",
      "metadata": {
        "id": "Y60hUWDsp3pK"
      },
      "source": [
        "Write a program that convert temperature in Feranhite to celsius."
      ]
    },
    {
      "cell_type": "code",
      "execution_count": 4,
      "metadata": {
        "id": "G9PbO6qPoUfn",
        "outputId": "759ed915-3f53-4202-ef84-3a24434a4862",
        "colab": {
          "base_uri": "https://localhost:8080/"
        }
      },
      "outputs": [
        {
          "output_type": "stream",
          "name": "stdout",
          "text": [
            "Enter the temperature in Feranhite: 77\n",
            "77.0°F is equal to 25.0°C\n"
          ]
        }
      ],
      "source": [
        "f_temp = float(input (\"Enter the temperature in Feranhite: \"))\n",
        "c_temp = float(f_temp - 32) * 5/9\n",
        "print(f\"{f_temp}°F is equal to {c_temp}°C\")"
      ]
    },
    {
      "cell_type": "markdown",
      "metadata": {
        "id": "a2kNRO9Vp7Qz"
      },
      "source": [
        "# Ex 4: Daily Maths"
      ]
    },
    {
      "cell_type": "markdown",
      "metadata": {
        "id": "lItKon9qqEUn"
      },
      "source": [
        "You are working in a retail shop. Write a program that computes the total cost for a customer that bought 3 differnt types of fruits : apple, orange, mango. Ask the user to enter the quantity and price for each type."
      ]
    },
    {
      "cell_type": "code",
      "execution_count": 6,
      "metadata": {
        "id": "mIQFjH6wqDma",
        "outputId": "17cb1d89-d408-4bbd-aa37-5de6f6c99952",
        "colab": {
          "base_uri": "https://localhost:8080/"
        }
      },
      "outputs": [
        {
          "output_type": "stream",
          "name": "stdout",
          "text": [
            "Enter the price of apple: 200\n",
            "Enter the quantity of apple: 1\n",
            "Enter the price of orange: 500\n",
            "Enter the quantity of orange: 4\n",
            "Enter the price of mango: 300\n",
            "Enter the quantity of mango: 1\n",
            "The total cost is 2500.0 Kyats\n"
          ]
        }
      ],
      "source": [
        "apple = float(input(\"Enter the price of apple: \"))\n",
        "apple_quantity = float(input(\"Enter the quantity of apple: \"))\n",
        "\n",
        "orange = float(input(\"Enter the price of orange: \"))\n",
        "orange_quantity = float(input(\"Enter the quantity of orange: \"))\n",
        "\n",
        "mango = float(input(\"Enter the price of mango: \"))\n",
        "mango_quantity = float(input(\"Enter the quantity of mango: \"))\n",
        "\n",
        "total_cost = apple * apple_quantity + orange * orange_quantity + mango * mango_quantity\n",
        "print(f\"The total cost is {total_cost} Kyats\")"
      ]
    },
    {
      "cell_type": "markdown",
      "metadata": {
        "id": "31fXlmEQqgvW"
      },
      "source": [
        "# Ex 5 : Greeting"
      ]
    },
    {
      "cell_type": "markdown",
      "metadata": {
        "id": "zvnmj8MGrJIw"
      },
      "source": [
        "Write a program to greet the customer who provides the user name. Your program should ask the name of the customer and print \"Hello + customer name\""
      ]
    },
    {
      "cell_type": "code",
      "execution_count": 8,
      "metadata": {
        "id": "Z6ynxZMarIXh",
        "outputId": "e361e602-9ff0-4320-c46c-cfb0fc8d8d78",
        "colab": {
          "base_uri": "https://localhost:8080/"
        }
      },
      "outputs": [
        {
          "output_type": "stream",
          "name": "stdout",
          "text": [
            "Hello, may I know your username please? mg mg\n",
            "Hello mg mg\n"
          ]
        }
      ],
      "source": [
        "username = input(\"Hello, may I know your username please? \")\n",
        "print(\"Hello \" + username)"
      ]
    },
    {
      "cell_type": "markdown",
      "metadata": {
        "id": "8gZRfxnTzYYP"
      },
      "source": [
        "# Ex 6: Random Number\n",
        "Write a program that generates a random number, x, between 1 and 50, a random number y between 2 and 5, and computes x^y."
      ]
    },
    {
      "cell_type": "code",
      "execution_count": 12,
      "metadata": {
        "id": "gludc_HIzYYP",
        "outputId": "cb637eae-5b26-4a00-a8ed-5d0cdc3842cd",
        "colab": {
          "base_uri": "https://localhost:8080/"
        }
      },
      "outputs": [
        {
          "output_type": "stream",
          "name": "stdout",
          "text": [
            "random number of x is 4\n",
            "random number of y is 3\n",
            "4 * 3 is 12\n"
          ]
        }
      ],
      "source": [
        "from random import randint\n",
        "x = randint(1,50)\n",
        "y = randint(2,5)\n",
        "mult = x*y\n",
        "print(f\"random number of x is {x}\")\n",
        "print(f\"random number of y is {y}\")\n",
        "print(f\"{x} * {y} is {mult}\")"
      ]
    },
    {
      "cell_type": "markdown",
      "metadata": {
        "id": "Jb2l3RwczYYP"
      },
      "source": [
        "# Ex 7: Greet many times.\n",
        "Write a program that generates a random number between 1 and 10 and prints your name that many times."
      ]
    },
    {
      "cell_type": "code",
      "execution_count": 18,
      "metadata": {
        "id": "au9m2J2EzYYQ",
        "outputId": "81a0fbb0-338c-40f5-a22a-f7431b7b7435",
        "colab": {
          "base_uri": "https://localhost:8080/"
        }
      },
      "outputs": [
        {
          "output_type": "stream",
          "name": "stdout",
          "text": [
            "Enter your name: mg mg\n",
            "mg mg\n",
            "mg mg\n",
            "mg mg\n",
            "mg mg\n",
            "mg mg\n",
            "The random number is 5\n"
          ]
        }
      ],
      "source": [
        "from random import randint\n",
        "name = input(\"Enter your name: \")\n",
        "num = randint(1,10)\n",
        "for i in range(num):\n",
        "  print(name)\n",
        "print(f\"The random number is {num}\")"
      ]
    },
    {
      "cell_type": "markdown",
      "metadata": {
        "id": "fLUn_wIczYYQ"
      },
      "source": [
        "# Ex 8: Computing.\n",
        "Write a program that asks the user to enter two numbers, x and y, and computes |x-y|/(x+y)."
      ]
    },
    {
      "cell_type": "code",
      "execution_count": 19,
      "metadata": {
        "id": "YGThBFpEzYYQ",
        "outputId": "e277010a-6457-4828-9e27-4b3b920ce72e",
        "colab": {
          "base_uri": "https://localhost:8080/"
        }
      },
      "outputs": [
        {
          "output_type": "stream",
          "name": "stdout",
          "text": [
            "Please type number for x: 4\n",
            "Please type number for y: 5\n",
            "0.1111111111111111\n"
          ]
        }
      ],
      "source": [
        "x = int(input(\"Please type number for x: \"))\n",
        "y = int(input(\"Please type number for y: \"))\n",
        "ans = abs(x-y)/(x+y)\n",
        "print(ans)"
      ]
    },
    {
      "cell_type": "markdown",
      "metadata": {
        "id": "KwOWCbXBzYYQ"
      },
      "source": [
        "# Ex 9: Computing\n",
        "\n",
        "Write a program that asks the user for a number of seconds and prints out how many minutes and seconds that is. For instance, 200 seconds is 3 minutes and 20 seconds."
      ]
    },
    {
      "cell_type": "code",
      "execution_count": 21,
      "metadata": {
        "id": "LWBfMBINzYYQ",
        "outputId": "f72ef942-18f1-49c9-f5e5-943c4fc7085f",
        "colab": {
          "base_uri": "https://localhost:8080/"
        }
      },
      "outputs": [
        {
          "output_type": "stream",
          "name": "stdout",
          "text": [
            "Please type the number of seconds: 200\n",
            "200 seconds is 3 minutes and 20 seconds\n"
          ]
        }
      ],
      "source": [
        "total_sec = input(\"Please type the number of seconds: \")\n",
        "min = int(total_sec)//60\n",
        "sec = int(total_sec)%60\n",
        "print(f\"{total_sec} seconds is {min} minutes and {sec} seconds\")"
      ]
    },
    {
      "cell_type": "markdown",
      "metadata": {
        "id": "hMFmw2-rzYYQ"
      },
      "source": [
        "# Ex 10: Using Math Module\n",
        "\n",
        "Write a program that asks the user for a number and then prints out the sine, cosine, and tangent of that number."
      ]
    },
    {
      "cell_type": "code",
      "execution_count": 22,
      "metadata": {
        "id": "oswLpsXlzYYQ",
        "outputId": "41b9aec6-a069-4a4f-fe34-f064351b21e1",
        "colab": {
          "base_uri": "https://localhost:8080/"
        }
      },
      "outputs": [
        {
          "output_type": "stream",
          "name": "stdout",
          "text": [
            "Enter a number: 20\n",
            "0.9129452507276277\n",
            "0.40808206181339196\n",
            "2.237160944224742\n"
          ]
        }
      ],
      "source": [
        "import math\n",
        "num = float(input(\"Enter a number: \"))\n",
        "sine_value = math.sin(num)\n",
        "cosine_value = math.cos(num)\n",
        "tangent_value = math.tan(num)\n",
        "print(sine_value)\n",
        "print(cosine_value)\n",
        "print(tangent_value)\n"
      ]
    }
  ],
  "metadata": {
    "colab": {
      "name": "Ex1_Python.ipynb",
      "provenance": [],
      "include_colab_link": true
    },
    "kernelspec": {
      "display_name": "Python 3",
      "language": "python",
      "name": "python3"
    },
    "language_info": {
      "codemirror_mode": {
        "name": "ipython",
        "version": 3
      },
      "file_extension": ".py",
      "mimetype": "text/x-python",
      "name": "python",
      "nbconvert_exporter": "python",
      "pygments_lexer": "ipython3",
      "version": "3.12.1"
    }
  },
  "nbformat": 4,
  "nbformat_minor": 0
}