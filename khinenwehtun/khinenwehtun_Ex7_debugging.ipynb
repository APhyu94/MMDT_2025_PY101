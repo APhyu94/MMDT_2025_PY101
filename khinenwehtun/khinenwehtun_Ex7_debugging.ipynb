{
  "nbformat": 4,
  "nbformat_minor": 0,
  "metadata": {
    "colab": {
      "provenance": [],
      "authorship_tag": "ABX9TyMwKHElzpeWGQkKoh/BZjZs",
      "include_colab_link": true
    },
    "kernelspec": {
      "name": "python3",
      "display_name": "Python 3"
    },
    "language_info": {
      "name": "python"
    }
  },
  "cells": [
    {
      "cell_type": "markdown",
      "metadata": {
        "id": "view-in-github",
        "colab_type": "text"
      },
      "source": [
        "<a href=\"https://colab.research.google.com/github/khinenwehtun/MMDT_2025_PY101/blob/main/khinenwehtun/khinenwehtun_Ex7_debugging.ipynb\" target=\"_parent\"><img src=\"https://colab.research.google.com/assets/colab-badge.svg\" alt=\"Open In Colab\"/></a>"
      ]
    },
    {
      "cell_type": "code",
      "execution_count": null,
      "metadata": {
        "id": "QnklPlUEVqTG"
      },
      "outputs": [],
      "source": [
        "from random import randint\n",
        "print(\"Program started...\")\n",
        "\n",
        "rand_num = randint(1, 5)\n",
        "print(f\"Random number generated: {rand_num}\")\n",
        "\n",
        "print(\"Starting loop to print 'Hello' messages...\\n\")\n",
        "for i in range(6):\n",
        "    print(f\"Iteration {i+1}: \", 'Hello ' * rand_num)\n",
        "\n",
        "print(\"\\nAll iterations completed.\")\n",
        "\n",
        "\n",
        "input(\"Press Enter to exit...\")\n"
      ]
    },
    {
      "cell_type": "code",
      "source": [
        "from random import randint\n",
        "\n",
        "print(\"Program started...\")\n",
        "\n",
        "\n",
        "print(\"This program will print the word 'Hello' multiple times in each of 6 iterations.\")\n",
        "print(\"In each iteration, a random number between 1 and 5 is generated.\")\n",
        "print(\"The word 'Hello' will be repeated that many times.\\n\")\n",
        "\n",
        "\n",
        "    rand_num = randint(1, 5)\n",
        "    print(f\"Iteration {i+1}: rand_num = {rand_num}\")\n",
        "    print('Hello ' * rand_num)\n",
        "\n",
        "\n",
        "input(\"\\nPress Enter to exit...\")"
      ],
      "metadata": {
        "colab": {
          "base_uri": "https://localhost:8080/",
          "height": 106
        },
        "id": "e2pFtjjyW-zZ",
        "outputId": "753ca379-c5a1-4216-a226-9d5067fb0f1f"
      },
      "execution_count": 1,
      "outputs": [
        {
          "output_type": "error",
          "ename": "IndentationError",
          "evalue": "unexpected indent (ipython-input-1-1904018266.py, line 11)",
          "traceback": [
            "\u001b[0;36m  File \u001b[0;32m\"/tmp/ipython-input-1-1904018266.py\"\u001b[0;36m, line \u001b[0;32m11\u001b[0m\n\u001b[0;31m    rand_num = randint(1, 5)\u001b[0m\n\u001b[0m    ^\u001b[0m\n\u001b[0;31mIndentationError\u001b[0m\u001b[0;31m:\u001b[0m unexpected indent\n"
          ]
        }
      ]
    },
    {
      "cell_type": "code",
      "source": [
        "import numpy as np\n",
        "\n",
        "def count_multiples_of_12():\n",
        "\n",
        "    random_numbers = np.random.randint(1, 101, size=10000)\n",
        "\n",
        "\n",
        "    count = np.sum(random_numbers % 12 == 0)\n",
        "\n",
        "    return count\n",
        "\n",
        "\n",
        "result = count_multiples_of_12()\n",
        "print(f\"Count of multiples of 12: {result}\")\n",
        "\n",
        "\n",
        "input(\"Press Enter to exit...\")"
      ],
      "metadata": {
        "colab": {
          "base_uri": "https://localhost:8080/"
        },
        "id": "uOwy90xvYVlC",
        "outputId": "0867449b-38be-4467-f600-7e26ffd076d9"
      },
      "execution_count": null,
      "outputs": [
        {
          "output_type": "stream",
          "name": "stdout",
          "text": [
            "Count of multiples of 12: 824\n"
          ]
        }
      ]
    },
    {
      "cell_type": "code",
      "source": [
        "def add(a, b):\n",
        "    return str(a) + b\n",
        "\n",
        "print(add(5, '2'))\n",
        "\n",
        "\n",
        "\n",
        "\n",
        "\n",
        "\n",
        "\n",
        "\n"
      ],
      "metadata": {
        "id": "ErACoZXfYsQK"
      },
      "execution_count": null,
      "outputs": []
    },
    {
      "cell_type": "code",
      "source": [
        "def divide(a, b):\n",
        "    try:\n",
        "        result = a / b\n",
        "        return result\n",
        "    except ZeroDivisionError:\n",
        "        return \"Error: Cannot divide by zero.\"\n",
        "    except TypeError:\n",
        "        return \"Error: Both inputs must be numbers.\""
      ],
      "metadata": {
        "id": "uVOqCWd7ZKY_"
      },
      "execution_count": null,
      "outputs": []
    },
    {
      "cell_type": "code",
      "source": [
        "def is_prime(n):\n",
        "    if n <= 1:\n",
        "        return False\n",
        "    for i in range(2, int(n**0.5) + 1):\n",
        "        if n % i == 0:\n",
        "            return False\n",
        "    return True\n",
        "\n",
        "print(is_prime(15))\n",
        "print(is_prime(13))"
      ],
      "metadata": {
        "id": "s2fgELe7Zad4"
      },
      "execution_count": null,
      "outputs": []
    },
    {
      "cell_type": "code",
      "source": [],
      "metadata": {
        "id": "-dW-ix29Zm3S"
      },
      "execution_count": null,
      "outputs": []
    }
  ]
}