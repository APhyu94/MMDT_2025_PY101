{
  "nbformat": 4,
  "nbformat_minor": 0,
  "metadata": {
    "colab": {
      "provenance": [],
      "authorship_tag": "ABX9TyOuhAUACijQCQ7Q9DdwQoQ7",
      "include_colab_link": true
    },
    "kernelspec": {
      "name": "python3",
      "display_name": "Python 3"
    },
    "language_info": {
      "name": "python"
    }
  },
  "cells": [
    {
      "cell_type": "markdown",
      "metadata": {
        "id": "view-in-github",
        "colab_type": "text"
      },
      "source": [
        "<a href=\"https://colab.research.google.com/github/khinenwehtun/MMDT_2025_PY101/blob/main/khinenwehtun/Ex0_individial_project_khinenwehtun_1.ipynb\" target=\"_parent\"><img src=\"https://colab.research.google.com/assets/colab-badge.svg\" alt=\"Open In Colab\"/></a>"
      ]
    },
    {
      "cell_type": "code",
      "execution_count": null,
      "metadata": {
        "id": "rkr6DlM_XjIZ"
      },
      "outputs": [],
      "source": [
        "# Create a \"data\" folder and write a Q1.txt file inside it\n",
        "import os\n",
        "\n",
        "# Step 1: Create folder (if not already exists)\n",
        "os.makedirs(\"data\", exist_ok=True)\n",
        "\n",
        "# Step 2: Write sample content to Q1.txt\n",
        "with open(\"data/Q1.txt\", \"w\") as file:\n",
        "    file.write(\"Apple, banana. Apple! apple? Banana; mango: apple.\")\n",
        "    # Link and read the content from Q1.txt\n",
        "with open(\"data/Q1.txt\", \"r\") as file:\n",
        "    text = file.read()\n",
        "    print(text)\n",
        "\n",
        "word_string = word_string.lower()\n",
        "\n",
        "for ch in [\",\", \".\", \"!\", \"?\", \":\", \";\", \"-\", \"(\", \")\", \"[\", \"]\", \"{\", \"}\", \"'\"]:\n",
        "    word_string = word_string.replace(ch, \"\")\n",
        "\n",
        "words = word_string.split()\n",
        "\n",
        "word_count = {}\n",
        "for word in words:\n",
        "    if word in word_count:\n",
        "        word_count[word] += 1\n",
        "    else:\n",
        "        word_count[word] = 1\n",
        "\n",
        "most_frequent = max(word_count, key=word_count.get)\n",
        "print(\"Most frequent word:\", most_frequent)\n",
        "print(\"Frequency:\", word_count[most_frequent])\n"
      ]
    },
    {
      "cell_type": "code",
      "source": [
        "with open(\"Q2.txt\", \"w\") as file:\n",
        "    file.write(\"John Doe\\n\")\n",
        "    file.write(\"Alice Smith\\n\")\n",
        "    file.write(\"Mary-Jane O'Brien\\n\")\n",
        "\n",
        "with open(\"Q2.txt\", \"r\") as file:\n",
        "    contents = file.read()\n",
        "    print(contents)\n",
        "    email_dict = {}\n",
        "\n",
        "with open(\"Q2.txt\", \"r\") as file:\n",
        "    for line in file:\n",
        "        original_name = line.strip()\n",
        "\n",
        "        cleaned_name = ''.join(char for char in original_name if char.isalnum()).lower()\n",
        "\n",
        "        email = cleaned_name + \"@simons-rock.edu\"\n",
        "        email_dict[original_name] = email\n",
        "\n",
        "print(email_dict)"
      ],
      "metadata": {
        "colab": {
          "base_uri": "https://localhost:8080/"
        },
        "id": "WqCJ5EYuXlI9",
        "outputId": "482e00be-ea16-4f22-b8a9-9811df0f68e9"
      },
      "execution_count": null,
      "outputs": [
        {
          "output_type": "stream",
          "name": "stdout",
          "text": [
            "John Doe\n",
            "Alice Smith\n",
            "Mary-Jane O'Brien\n",
            "\n",
            "{'John Doe': 'johndoe@simons-rock.edu', 'Alice Smith': 'alicesmith@simons-rock.edu', \"Mary-Jane O'Brien\": 'maryjaneobrien@simons-rock.edu'}\n"
          ]
        }
      ]
    },
    {
      "cell_type": "code",
      "source": [
        "import random\n",
        "number = random.randint(1, 100)\n",
        "\n",
        "def play_game():\n",
        "    number = random.randint(1, 100)\n",
        "    max_guesses = 10\n",
        "    attempts = 0\n",
        "\n",
        "    print(\"Game starts... 🎮\")\n",
        "    print(\"I'm thinking of a number between 1 and 100.\")\n",
        "\n",
        "    while attempts < max_guesses:\n",
        "        try:\n",
        "            guess = int(input(f\"Attempt {attempts + 1}: Guess the number: \"))\n",
        "        except ValueError:\n",
        "            print(\"Please enter a valid integer.\")\n",
        "            continue\n",
        "\n",
        "        attempts += 1\n",
        "\n",
        "        if guess < number:\n",
        "            print(\"Too low!\")\n",
        "        elif guess > number:\n",
        "            print(\"Too high!\")\n",
        "        else:\n",
        "            print(f\"🎉 Correct! You guessed it in {attempts} tries.\")\n",
        "            break\n",
        "    else:\n",
        "        print(f\"😢 Game over. The number was {number}. Goodbye.\")\n",
        "\n",
        "    again = input(\"Do you want to play again? (yes/no): \").strip().lower()\n",
        "    if again == \"yes\":\n",
        "        play_game()\n",
        "    else:\n",
        "        print(\"Thanks for playing! 👋\")\n",
        "\n",
        "play_game()\n"
      ],
      "metadata": {
        "colab": {
          "base_uri": "https://localhost:8080/"
        },
        "id": "zvcKaD0fZVNx",
        "outputId": "369826da-e744-4d8d-a79e-052bcbcccd0c"
      },
      "execution_count": null,
      "outputs": [
        {
          "metadata": {
            "tags": null
          },
          "name": "stdout",
          "output_type": "stream",
          "text": [
            "Game starts... 🎮\n",
            "I'm thinking of a number between 1 and 100.\n",
            "Too high!\n"
          ]
        }
      ]
    },
    {
      "cell_type": "code",
      "source": [],
      "metadata": {
        "id": "Qhe-cdnRaTMN"
      },
      "execution_count": null,
      "outputs": []
    }
  ]
}