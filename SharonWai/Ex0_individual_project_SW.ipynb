{
  "cells": [
    {
      "cell_type": "markdown",
      "metadata": {
        "id": "PmnqJHm3fbnC"
      },
      "source": [
        "1) Write a Python program in the below cell to create a dictionary that count the frequency of words in the string given in Q1.txt. Find the most frequent occured word.\n",
        "\n",
        "Don't remove the comment lines provided."
      ]
    },
    {
      "cell_type": "code",
      "execution_count": 5,
      "metadata": {
        "colab": {
          "base_uri": "https://localhost:8080/",
          "height": 211
        },
        "id": "9va0altbfbnD",
        "outputId": "d9a56bef-f678-41d5-a59e-cf256c413bef"
      },
      "outputs": [
        {
          "output_type": "error",
          "ename": "FileNotFoundError",
          "evalue": "[Errno 2] No such file or directory: './data/Q1.txt'",
          "traceback": [
            "\u001b[0;31m---------------------------------------------------------------------------\u001b[0m",
            "\u001b[0;31mFileNotFoundError\u001b[0m                         Traceback (most recent call last)",
            "\u001b[0;32m/tmp/ipython-input-5-1425092664.py\u001b[0m in \u001b[0;36m<cell line: 0>\u001b[0;34m()\u001b[0m\n\u001b[1;32m      1\u001b[0m \u001b[0;31m#step 1: read content from Q1.txt\u001b[0m\u001b[0;34m\u001b[0m\u001b[0;34m\u001b[0m\u001b[0m\n\u001b[0;32m----> 2\u001b[0;31m \u001b[0;32mwith\u001b[0m \u001b[0mopen\u001b[0m\u001b[0;34m(\u001b[0m\u001b[0;34m'./data/Q1.txt'\u001b[0m\u001b[0;34m,\u001b[0m \u001b[0;34m'r'\u001b[0m\u001b[0;34m)\u001b[0m \u001b[0;32mas\u001b[0m \u001b[0mfile1\u001b[0m\u001b[0;34m:\u001b[0m\u001b[0;34m\u001b[0m\u001b[0;34m\u001b[0m\u001b[0m\n\u001b[0m\u001b[1;32m      3\u001b[0m     \u001b[0mword_string\u001b[0m \u001b[0;34m=\u001b[0m \u001b[0mfile1\u001b[0m\u001b[0;34m.\u001b[0m\u001b[0mread\u001b[0m\u001b[0;34m(\u001b[0m\u001b[0;34m)\u001b[0m\u001b[0;34m\u001b[0m\u001b[0;34m\u001b[0m\u001b[0m\n\u001b[1;32m      4\u001b[0m \u001b[0;34m\u001b[0m\u001b[0m\n\u001b[1;32m      5\u001b[0m \u001b[0;31m#step 2.1 - change the case to upper or lower. Convert to lowercase.\u001b[0m\u001b[0;34m\u001b[0m\u001b[0;34m\u001b[0m\u001b[0m\n",
            "\u001b[0;31mFileNotFoundError\u001b[0m: [Errno 2] No such file or directory: './data/Q1.txt'"
          ]
        }
      ],
      "source": [
        "#step 1: read content from Q1.txt\n",
        "with open('./data/Q1.txt', 'r') as file1:\n",
        "    word_string = file1.read()\n",
        "\n",
        "#step 2.1 - change the case to upper or lower. Convert to lowercase.\n",
        "    word_string = word_string.lower()\n",
        "\n",
        "#step 2.2 - remove pun : use replace\n",
        "for punct in [\".\", \",\", \"/\", \"(\", \")\", \"!\", \"?\", \"-\", \":\"]:\n",
        "    word_string = word_string.replace(punct, \"\")\n",
        "\n",
        "#step 2.3 - split using space\n",
        "words = word_string.split()\n",
        "\n",
        "#Step 3: create a dictionary\n",
        "word_count = {}\n",
        "for word in words:\n",
        "  if word in word_count:\n",
        "     word_count[word] += 1\n",
        "  else:\n",
        "     word_count[word] = 1\n",
        "\n",
        "#Step 4: find the most frequent occured one\n",
        "most_frequent_word = max(word_count, key=word_count.get)\n",
        "max_frequency = word_count[most_frequent_word]\n",
        "\n",
        "#Print the results.\n",
        "print(\"Word Count: \", word_count)\n",
        "print(\"Most Frequent Word: \", most_frequent_word)\n",
        "print(\"Max Frequency: \", max_frequency)\n",
        "\n",
        ""
      ]
    },
    {
      "cell_type": "markdown",
      "metadata": {
        "id": "NdZp80WLfbnE"
      },
      "source": [
        "2) Write a Python program to read the name from Q2.txt and create email using domain 'simons-rock.edu' and save the results as dictionary : {'name': 'name@simons-rock.edu'}.\n",
        "Please take note that your email should not include space or any special characters and all charcters should be in lowercase."
      ]
    },
    {
      "cell_type": "code",
      "execution_count": null,
      "metadata": {
        "id": "KEhb9qHbfbnE"
      },
      "outputs": [],
      "source": [
        "#step 1: read Q2. txt into the list\n",
        "with open ('./data/Q2.txt', 'r') as names:\n",
        "    header = names.readline()\n",
        "    namelist = names.readlines()\n",
        "\n",
        "#step 2: create email for each name in the list and save them in the dictionary\n",
        "# You need to do the necessary data cleaning\n",
        "# For example, removing the space and special characters if there is any, converting them to lower case\n",
        "\n",
        ""
      ]
    },
    {
      "cell_type": "markdown",
      "metadata": {
        "id": "hnNKyvkLfbnE"
      },
      "source": [
        "3) Write a Python program for \"Guessing Game: Guess the Number Challenge\"\n",
        "\n",
        "Step 1: Use a random function to generate a number.\n",
        "\n",
        "##### Game starts.......\n",
        "\n",
        "Step 2: Prompt the user to guess an integer number. Provide a range if needed to give the user context for their guess.\n",
        "\n",
        "Step 3: Check the condition of the guessed number compared to the generated number and provide feedback accordingly. For example, if the guess is too high or too low, inform the user.\n",
        "\n",
        "Step 4.1: If the guess is incorrect, allow the user to guess again. Repeat this process for a maximum of 10 guesses.\n",
        "\n",
        "Step 4.2: If the user guesses the number correctly, inform them that they have won. Also, indicate how many guesses were needed before guessing correctly.\n",
        "\n",
        "Step 4.3: If the user exhausts all 10 guesses without guessing the correct number, say \"goodbye.\"\n",
        "\n",
        "##### Game ends ...\n",
        "\n",
        "Step 5: Regardless of winning or losing, ask the user if they want to play again. This ensures the program's continuity and gives the user the option to continue playing if they wish."
      ]
    },
    {
      "cell_type": "code",
      "execution_count": null,
      "metadata": {
        "id": "wY8dBRzUfbnF"
      },
      "outputs": [],
      "source": [
        "\n",
        "\n"
      ]
    }
  ],
  "metadata": {
    "kernelspec": {
      "display_name": "Python 3",
      "language": "python",
      "name": "python3"
    },
    "language_info": {
      "codemirror_mode": {
        "name": "ipython",
        "version": 3
      },
      "file_extension": ".py",
      "mimetype": "text/x-python",
      "name": "python",
      "nbconvert_exporter": "python",
      "pygments_lexer": "ipython3",
      "version": "3.12.1"
    },
    "colab": {
      "provenance": []
    }
  },
  "nbformat": 4,
  "nbformat_minor": 0
}