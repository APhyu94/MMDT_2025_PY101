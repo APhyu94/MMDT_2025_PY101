{
  "cells": [
    {
      "cell_type": "markdown",
      "metadata": {
        "id": "view-in-github",
        "colab_type": "text"
      },
      "source": [
        "<a href=\"https://colab.research.google.com/github/SharonWai/MMDT_2025_PY101/blob/SharonWai1/SharonWai/sw_Ex4_Looping.ipynb\" target=\"_parent\"><img src=\"https://colab.research.google.com/assets/colab-badge.svg\" alt=\"Open In Colab\"/></a>"
      ]
    },
    {
      "cell_type": "markdown",
      "metadata": {
        "id": "YeTHwB3EASGn"
      },
      "source": [
        "The exercises are extracted from A_Practical_Introduction_to_Python_Programming_Heinold.pdf"
      ]
    },
    {
      "cell_type": "markdown",
      "metadata": {
        "id": "wVOW5QDgAZ_R"
      },
      "source": [
        "Ex 1: Write a program that uses a while loop (not a for loop) to read through a string and print\n",
        "the characters of the string one-by-one on separate lines."
      ]
    },
    {
      "cell_type": "code",
      "source": [
        "text = \"Good morning\"\n",
        "index = 0\n",
        "while index < len(text):\n",
        "  print(text[index])\n",
        "  index = index + 1"
      ],
      "metadata": {
        "id": "zj5oxmpcHlf4",
        "outputId": "4cf8e176-9ac8-4b31-8105-8b380fd98772",
        "colab": {
          "base_uri": "https://localhost:8080/"
        }
      },
      "execution_count": 2,
      "outputs": [
        {
          "output_type": "stream",
          "name": "stdout",
          "text": [
            "G\n",
            "o\n",
            "o\n",
            "d\n",
            " \n",
            "m\n",
            "o\n",
            "r\n",
            "n\n",
            "i\n",
            "n\n",
            "g\n"
          ]
        }
      ]
    },
    {
      "cell_type": "markdown",
      "metadata": {
        "id": "5B-LyYV0AkCK"
      },
      "source": [
        "Ex 2: A good program will make sure that the data its users enter is valid. Write a program that\n",
        "asks the user for a weight and converts it from kilograms to pounds. Whenever the user\n",
        "enters a weight below 0, the program should tell them that their entry is invalid and then ask\n",
        "them again to enter a weight. [Hint: Use a while loop, not an if statement]."
      ]
    },
    {
      "cell_type": "code",
      "source": [
        "kg_to_lbs = 2.20462\n",
        "\n",
        "while True:\n",
        "  weight_kg = float(input(\"Enter your weight in kilograms: \"))\n",
        "\n",
        "  if weight_kg <0:\n",
        "    print(\"Invalid entry. Please try again.\")\n",
        "  else:\n",
        "    break\n",
        "\n",
        "weight_lbs = weight_kg * kg_to_lbs\n",
        "print(\"Your weight in pounds is {}\".format(weight_lbs))"
      ],
      "metadata": {
        "id": "gRp_T302MDz_",
        "outputId": "bfaf859e-5abb-41a9-8b02-2f5e29d7e540",
        "colab": {
          "base_uri": "https://localhost:8080/"
        }
      },
      "execution_count": 8,
      "outputs": [
        {
          "output_type": "stream",
          "name": "stdout",
          "text": [
            "Enter your weight in kilograms: -5\n",
            "Invalid entry. Please try again.\n",
            "Enter your weight in kilograms: 60\n",
            "Your weight in pounds is 132.2772\n"
          ]
        }
      ]
    },
    {
      "cell_type": "markdown",
      "metadata": {
        "id": "zQT0pCjRAsIK"
      },
      "source": [
        "Ex 3: Write a program that allows the user to enter any number of test scores. The user indicates\n",
        "they are done by entering in a negative number. Print how many of the scores are A’s (90 or\n",
        "above). Also print out the average"
      ]
    },
    {
      "cell_type": "code",
      "execution_count": 16,
      "metadata": {
        "id": "Gya-rvYUAviK",
        "outputId": "89018920-1b93-4cb8-851e-a083ab9fdef3",
        "colab": {
          "base_uri": "https://localhost:8080/"
        }
      },
      "outputs": [
        {
          "output_type": "stream",
          "name": "stdout",
          "text": [
            "Enter a test score (Enter negative test scores to finish): 92\n",
            "Enter a test score (Enter negative test scores to finish): 88\n",
            "Enter a test score (Enter negative test scores to finish): 63\n",
            "Enter a test score (Enter negative test scores to finish): -3\n",
            "Number of A grades: 1\n",
            "Average score is: 81.0\n"
          ]
        }
      ],
      "source": [
        "scores = []\n",
        "num_a_grades = 0\n",
        "\n",
        "while True:\n",
        "  score = float(input(\"Enter a test score (Enter negative test scores to finish): \"))\n",
        "  if score <0:\n",
        "    break\n",
        "\n",
        "  scores.append(score)\n",
        "\n",
        "  if score >= 90:\n",
        "    num_a_grades = num_a_grades + 1\n",
        "\n",
        "if scores:\n",
        "      avg_score = sum(scores)/len(scores)\n",
        "      print(\"Number of A grades: {}\".format(num_a_grades))\n",
        "      print(\"Average score is: {}\".format(avg_score))\n",
        "else:\n",
        "      print(\"No valid scores entered.\")"
      ]
    },
    {
      "cell_type": "markdown",
      "metadata": {
        "id": "IHIWc5jHAwxY"
      },
      "source": [
        "Ex 4: Write a program that asks the user for a string and a letter. Using a for loop, the\n",
        "program should print the index of the first occurrence of that letter and a message if the\n",
        "string does not contain the letter."
      ]
    },
    {
      "cell_type": "code",
      "source": [
        "text = input(\"Enter a string: \")\n",
        "letter = input(\"Enter a letter to find: \")\n",
        "\n",
        "if len(letter) !=1:\n",
        "  print(\"Please enter a letter.\")\n",
        "else:\n",
        "  found = False\n",
        "\n",
        "  for index in range(len(text)):\n",
        "    if text[index] == letter:\n",
        "      print(\"The first appearance of letter {} is at index {}\".format(letter, index))\n",
        "      found = True\n",
        "      break\n",
        "      if not found:\n",
        "        print(\"The string does not found in the letter {}\".format(letter))"
      ],
      "metadata": {
        "id": "udDVM0EQWmUS",
        "outputId": "d2ead335-aab4-4d43-cf63-44fd95324f8c",
        "colab": {
          "base_uri": "https://localhost:8080/"
        }
      },
      "execution_count": 27,
      "outputs": [
        {
          "output_type": "stream",
          "name": "stdout",
          "text": [
            "Enter a string: Great\n",
            "Enter a letter to find: e\n",
            "The first appearance of letter e is at index 2\n"
          ]
        }
      ]
    },
    {
      "cell_type": "markdown",
      "metadata": {
        "id": "PfyUq4CnA8vk"
      },
      "source": [
        "Ex 5: Write a program in which you have a list that contains seven integers that can be 0 or 1. Find the first zero entry in the list and change it to a 1. If there are no zero entries, print a message saying so."
      ]
    },
    {
      "cell_type": "code",
      "source": [
        "numbers_list = [1, 0, 1, 0, 1, 1, 0]\n",
        "\n",
        "found_zero = False\n",
        "\n",
        "for i in range(len(numbers_list)):\n",
        "    if numbers_list[i] == 0:\n",
        "       numbers_list[i] = 1\n",
        "       found_zero = True\n",
        "       print(\"The frist zero found at index {}. Changed it to 1\".format(numbers_list) )\n",
        "       break\n",
        "\n",
        "if not found_zero:\n",
        "   print(\"No zero entry found in the list.\")\n",
        "\n",
        "   print(\"Updated list: {}\".format(numbers_list))"
      ],
      "metadata": {
        "id": "hXqBNYVHZACs",
        "outputId": "b7895000-91a2-43eb-bc8a-d2ca7a94feed",
        "colab": {
          "base_uri": "https://localhost:8080/"
        }
      },
      "execution_count": 35,
      "outputs": [
        {
          "output_type": "stream",
          "name": "stdout",
          "text": [
            "The frist zero found at index [1, 1, 1, 0, 1, 1, 0]. Changed it to 1\n"
          ]
        }
      ]
    }
  ],
  "metadata": {
    "colab": {
      "name": "Ex4_Looping.ipynb",
      "provenance": [],
      "include_colab_link": true
    },
    "kernelspec": {
      "display_name": "Python 3",
      "name": "python3"
    },
    "language_info": {
      "codemirror_mode": {
        "name": "ipython",
        "version": 3
      },
      "file_extension": ".py",
      "mimetype": "text/x-python",
      "name": "python",
      "nbconvert_exporter": "python",
      "pygments_lexer": "ipython3",
      "version": "3.12.1"
    }
  },
  "nbformat": 4,
  "nbformat_minor": 0
}