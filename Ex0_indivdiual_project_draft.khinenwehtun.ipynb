{
  "nbformat": 4,
  "nbformat_minor": 0,
  "metadata": {
    "colab": {
      "provenance": [],
      "mount_file_id": "1iofyK2t2kyN8SswhAlFKzi9UpUzKpH5_",
      "authorship_tag": "ABX9TyNNbilTRCcCdvjWDZsNO8Hd",
      "include_colab_link": true
    },
    "kernelspec": {
      "name": "python3",
      "display_name": "Python 3"
    },
    "language_info": {
      "name": "python"
    }
  },
  "cells": [
    {
      "cell_type": "markdown",
      "metadata": {
        "id": "view-in-github",
        "colab_type": "text"
      },
      "source": [
        "<a href=\"https://colab.research.google.com/github/khinenwehtun/MMDT_2025_PY101/blob/main/Ex0_indivdiual_project_draft.khinenwehtun.ipynb\" target=\"_parent\"><img src=\"https://colab.research.google.com/assets/colab-badge.svg\" alt=\"Open In Colab\"/></a>"
      ]
    },
    {
      "cell_type": "code",
      "execution_count": null,
      "metadata": {
        "id": "i87Q5N9mX_bC",
        "colab": {
          "base_uri": "https://localhost:8080/"
        },
        "outputId": "df68de8b-2a24-4066-f80e-64f3614f2a81"
      },
      "outputs": [
        {
          "output_type": "stream",
          "name": "stdout",
          "text": [
            "Mounted at /content/drive\n"
          ]
        }
      ],
      "source": [
        "from google.colab import drive\n",
        "drive.mount('/content/drive')"
      ]
    },
    {
      "cell_type": "code",
      "source": [
        "f = open(\"/content/drive/MyDrive/Fruits - Sheet1.csv\", \"r\")\n",
        "print(f.read())"
      ],
      "metadata": {
        "colab": {
          "base_uri": "https://localhost:8080/"
        },
        "id": "pG_MviJnkbC8",
        "outputId": "a945e38e-703e-4d80-c8e6-0a2cb54bd07e"
      },
      "execution_count": null,
      "outputs": [
        {
          "output_type": "stream",
          "name": "stdout",
          "text": [
            "Apple\n",
            "Orange\n",
            "Grapes\n",
            "Strawberries\n",
            "Blueberries\n",
            "Mangoes\n",
            "Pineapple\n",
            "Kiwifruit\n",
            "Banana\n",
            "Papaya\n",
            "Passion fruit\n",
            "Star fruit\n",
            "Plum\n",
            "Coconut\n",
            "Melon\n",
            "Watermelon\n",
            "Pear\n",
            "Dragon fruit\n",
            "Lime\n",
            "Peach\n",
            "Cherry\n",
            "Litchi\n"
          ]
        }
      ]
    },
    {
      "cell_type": "code",
      "source": [
        "import csv\n",
        "with open(\"/content/drive/MyDrive/Gold Price and grams -2.csv\", 'r') as file:\n",
        "    reader = csv.reader(file)\n",
        "    next(reader)\n",
        "    print(\"Gold Price Calculator\")\n",
        "    print(\"----------------------\")\n",
        "    for row in reader:\n",
        "        item = row[0].strip()\n",
        "        price_per_gram = float(row[1].strip().replace(',', ''))\n",
        "        weight = float(row[2].strip())\n",
        "        total_price = price_per_gram * weight\n",
        "        print(f\"{item}: {weight}g × {price_per_gram:,.0f} = {total_price:,.2f}\")"
      ],
      "metadata": {
        "colab": {
          "base_uri": "https://localhost:8080/"
        },
        "id": "158zPLSfmhFD",
        "outputId": "c0dae7da-3956-4e98-cbbf-8c81e46ede0c"
      },
      "execution_count": 11,
      "outputs": [
        {
          "output_type": "stream",
          "name": "stdout",
          "text": [
            "Gold Price Calculator\n",
            "----------------------\n",
            "Item 1: 5.0g × 500,000 = 2,500,000.00\n",
            "Item 2: 8.0g × 500,000 = 4,000,000.00\n",
            "Item 3: 7.0g × 500,000 = 3,500,000.00\n",
            "Item 4: 9.0g × 500,000 = 4,500,000.00\n",
            "Item 5: 5.0g × 500,000 = 2,500,000.00\n",
            "Item 6: 4.0g × 500,000 = 2,000,000.00\n",
            "Item 7: 3.0g × 500,000 = 1,500,000.00\n",
            "Item 8: 9.0g × 500,000 = 4,500,000.00\n",
            "Item 9: 11.0g × 500,000 = 5,500,000.00\n",
            "Item 10: 12.0g × 500,000 = 6,000,000.00\n",
            "Item 11: 7.0g × 500,000 = 3,500,000.00\n",
            "Item 12: 10.0g × 500,000 = 5,000,000.00\n",
            "Item 13: 21.0g × 500,000 = 10,500,000.00\n",
            "Item 14: 4.0g × 500,000 = 2,000,000.00\n",
            "Item 15: 6.0g × 500,000 = 3,000,000.00\n"
          ]
        }
      ]
    },
    {
      "cell_type": "code",
      "source": [
        "def calculate_grade(score):\n",
        "    if score >= 90:\n",
        "        return \"A\"\n",
        "    elif score >= 75:\n",
        "        return \"B\"\n",
        "    elif score >= 60:\n",
        "        return \"C\"\n",
        "    else:\n",
        "        return \"F\"\n",
        "score = int(input(\"Enter student score: \"))\n",
        "grade = calculate_grade(score)\n",
        "print(\"Grade:\", grade)"
      ],
      "metadata": {
        "id": "GGpXrYy6o1N6"
      },
      "execution_count": null,
      "outputs": []
    }
  ]
}