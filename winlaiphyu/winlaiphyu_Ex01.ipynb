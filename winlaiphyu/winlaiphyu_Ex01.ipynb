{
  "cells": [
    {
      "cell_type": "markdown",
      "metadata": {
        "id": "view-in-github",
        "colab_type": "text"
      },
      "source": [
        "<a href=\"https://colab.research.google.com/github/Winlai16/MMDT_2025_PY101/blob/winlaiphyu/winlaiphyu_Ex01.ipynb\" target=\"_parent\"><img src=\"https://colab.research.google.com/assets/colab-badge.svg\" alt=\"Open In Colab\"/></a>"
      ]
    },
    {
      "cell_type": "markdown",
      "metadata": {
        "id": "thgO68_HZ0Aa"
      },
      "source": [
        "# Introduction"
      ]
    },
    {
      "cell_type": "markdown",
      "metadata": {
        "id": "PIh3i0c_Z_yP"
      },
      "source": [
        "This section introduces the Python Programming uisng Colab. Follow the instructions and complete the exercises."
      ]
    },
    {
      "cell_type": "markdown",
      "metadata": {
        "id": "gCw6SfeFZ78l"
      },
      "source": [
        "# Ex 1 : Check Version"
      ]
    },
    {
      "cell_type": "markdown",
      "metadata": {
        "id": "6Vm-27iLabjm"
      },
      "source": [
        "Using the below cell, Import the required library and check the version of the python in your environment."
      ]
    },
    {
      "cell_type": "code",
      "execution_count": 11,
      "metadata": {
        "id": "PJDYHB4AXVdc",
        "outputId": "86ce281a-74fb-4984-f8e8-49056dfade12",
        "colab": {
          "base_uri": "https://localhost:8080/"
        }
      },
      "outputs": [
        {
          "output_type": "stream",
          "name": "stdout",
          "text": [
            "3.11.12 (main, Apr  9 2025, 08:55:54) [GCC 11.4.0]\n"
          ]
        }
      ],
      "source": [
        "import sys\n",
        "print(sys.version)"
      ]
    },
    {
      "cell_type": "markdown",
      "metadata": {
        "id": "5qTEiwGlawf5"
      },
      "source": [
        "# Ex2 : Convert Currency."
      ]
    },
    {
      "cell_type": "markdown",
      "metadata": {
        "id": "XH8K1p0ypVCg"
      },
      "source": [
        "Write a program that asks the user for the amount in usd and converts it to British pounds. The exchange rate is from usd to BP is given as 0.82"
      ]
    },
    {
      "cell_type": "code",
      "execution_count": 12,
      "metadata": {
        "colab": {
          "base_uri": "https://localhost:8080/"
        },
        "id": "x9xQXOnRa0MS",
        "outputId": "9789fe1c-a6c9-4ec5-8871-59010ced91f6"
      },
      "outputs": [
        {
          "output_type": "stream",
          "name": "stdout",
          "text": [
            "Enter the amount in USD: 200\n",
            "200 usd is equivalent to 164.0 british pound\n"
          ]
        }
      ],
      "source": [
        "usd_amount = input (\"Enter the amount in USD: \")\n",
        "bp_amount = int(usd_amount) *0.82\n",
        "print(\"{} usd is equivalent to {} british pound\".format(usd_amount, bp_amount))"
      ]
    },
    {
      "cell_type": "markdown",
      "metadata": {
        "id": "ePfECwUIpli4"
      },
      "source": [
        "# Ex 3: Temperature Converter"
      ]
    },
    {
      "cell_type": "markdown",
      "metadata": {
        "id": "Y60hUWDsp3pK"
      },
      "source": [
        "Write a program that convert temperature in Feranhite to celsius."
      ]
    },
    {
      "cell_type": "code",
      "execution_count": 13,
      "metadata": {
        "id": "G9PbO6qPoUfn",
        "outputId": "54a4c57f-93a9-486e-e542-ded8e3615ee0",
        "colab": {
          "base_uri": "https://localhost:8080/"
        }
      },
      "outputs": [
        {
          "output_type": "stream",
          "name": "stdout",
          "text": [
            "Enter temperature in Fahrenheit: 30\n",
            "30°F is equilvant to -1.1111111111111112°C\n"
          ]
        }
      ],
      "source": [
        "fahrenheit = input(\"Enter temperature in Fahrenheit: \")\n",
        "celsius = (int(fahrenheit)-32)*5/9\n",
        "\n",
        "print(\"{}°F is equilvant to {}°C\".format(fahrenheit,celsius))"
      ]
    },
    {
      "cell_type": "markdown",
      "metadata": {
        "id": "a2kNRO9Vp7Qz"
      },
      "source": [
        "# Ex 4: Daily Maths"
      ]
    },
    {
      "cell_type": "markdown",
      "metadata": {
        "id": "lItKon9qqEUn"
      },
      "source": [
        "You are working in a retail shop. Write a program that computes the total cost for a customer that bought 3 differnt types of fruits : apple, orange, mango. Ask the user to enter the quantity and price for each type."
      ]
    },
    {
      "cell_type": "code",
      "execution_count": 14,
      "metadata": {
        "id": "mIQFjH6wqDma",
        "outputId": "db3912bb-d557-4238-ce0d-3748a3b2dbcc",
        "colab": {
          "base_uri": "https://localhost:8080/"
        }
      },
      "outputs": [
        {
          "output_type": "stream",
          "name": "stdout",
          "text": [
            "Enter number of apple: 3\n",
            "Enter price of apple: 40\n",
            "Enter number of orange: 4\n",
            "Enter price of orange: 50\n",
            "Enter number of mango: 6\n",
            "Enter price of mango: 50\n",
            "Total Cost is  620\n"
          ]
        }
      ],
      "source": [
        "apple_qty = input(\"Enter number of apple: \")\n",
        "apple_price= input(\"Enter price of apple: \")\n",
        "\n",
        "org_qty = input(\"Enter number of orange: \")\n",
        "org_price= input(\"Enter price of orange: \")\n",
        "\n",
        "mango_qty = input(\"Enter number of mango: \")\n",
        "mango_price= input(\"Enter price of mango: \")\n",
        "Total_cost= int(apple_qty)*int(apple_price) + int(org_qty)* int(org_price)+ int(mango_qty)* int(mango_price)\n",
        "print(\"Total Cost is \",Total_cost)"
      ]
    },
    {
      "cell_type": "markdown",
      "metadata": {
        "id": "31fXlmEQqgvW"
      },
      "source": [
        "# Ex 5 : Greeting"
      ]
    },
    {
      "cell_type": "markdown",
      "metadata": {
        "id": "zvnmj8MGrJIw"
      },
      "source": [
        "Write a program to greet the customer who provides the user name. Your program should ask the name of the customer and print \"Hello + customer name\""
      ]
    },
    {
      "cell_type": "code",
      "execution_count": 15,
      "metadata": {
        "id": "Z6ynxZMarIXh",
        "outputId": "0a768871-c9f8-4079-98b8-1b411538364b",
        "colab": {
          "base_uri": "https://localhost:8080/"
        }
      },
      "outputs": [
        {
          "output_type": "stream",
          "name": "stdout",
          "text": [
            "Enter your name: winlai\n",
            "Hello winlai\n"
          ]
        }
      ],
      "source": [
        "customer_name = input(\"Enter your name: \")\n",
        "print(\"Hello \" + customer_name)"
      ]
    },
    {
      "cell_type": "markdown",
      "metadata": {
        "id": "b-qqIB65tF9N"
      },
      "source": [
        "# Ex 6: Random Number\n",
        "Write a program that generates a random number, x, between 1 and 50, a random number y between 2 and 5, and computes x^y."
      ]
    },
    {
      "cell_type": "code",
      "execution_count": 16,
      "metadata": {
        "id": "Y6MtfoautF9N",
        "outputId": "9a4f813b-45ab-4cd5-f303-b8a27e8bf2f4",
        "colab": {
          "base_uri": "https://localhost:8080/"
        }
      },
      "outputs": [
        {
          "output_type": "stream",
          "name": "stdout",
          "text": [
            "A random number between 1 and 10:  2\n",
            "A random number between 2 and 5:  4\n",
            "Result is: 6\n"
          ]
        }
      ],
      "source": [
        "from random import randint\n",
        "x = randint(1,10)\n",
        "y = randint(2,5)\n",
        "result = x ^ y\n",
        "\n",
        "print('A random number between 1 and 10: ', x)\n",
        "print('A random number between 2 and 5: ', y)\n",
        "print(\"Result is:\", result)"
      ]
    },
    {
      "cell_type": "markdown",
      "metadata": {
        "id": "5hDLRIqCtF9O"
      },
      "source": [
        "# Ex 7: Greet many times.\n",
        "Write a program that generates a random number between 1 and 10 and prints your name that many times."
      ]
    },
    {
      "cell_type": "code",
      "execution_count": 17,
      "metadata": {
        "id": "6zsN_OWhtF9O",
        "outputId": "88db9d00-4d9a-41e5-88ee-ddb0a8561e42",
        "colab": {
          "base_uri": "https://localhost:8080/"
        }
      },
      "outputs": [
        {
          "output_type": "stream",
          "name": "stdout",
          "text": [
            "A random number between 1 and 10:  5\n",
            " win lai  win lai  win lai  win lai  win lai \n"
          ]
        }
      ],
      "source": [
        "from random import randint\n",
        "x=randint(1,10)\n",
        "name = \" win lai \"\n",
        "print('A random number between 1 and 10: ', x)\n",
        "print(name * x)\n"
      ]
    },
    {
      "cell_type": "markdown",
      "metadata": {
        "id": "pKo4r97MtF9O"
      },
      "source": [
        "# Ex 8: Computing.\n",
        "Write a program that asks the user to enter two numbers, x and y, and computes |x-y|/(x+y)."
      ]
    },
    {
      "cell_type": "code",
      "execution_count": 18,
      "metadata": {
        "id": "unz0NIaLtF9O",
        "outputId": "d7387813-f788-4a4a-865d-377ffa9565a6",
        "colab": {
          "base_uri": "https://localhost:8080/"
        }
      },
      "outputs": [
        {
          "output_type": "stream",
          "name": "stdout",
          "text": [
            "Enter number: 20\n",
            "Enter number: 34\n",
            "0.25925925925925924\n"
          ]
        }
      ],
      "source": [
        "x = int(input(\"Enter number: \"))\n",
        "y = int(input(\"Enter number: \"))\n",
        "A= abs(x-y)\n",
        "B=(x+y)\n",
        "result = A/B\n",
        "print(result)"
      ]
    },
    {
      "cell_type": "markdown",
      "metadata": {
        "id": "WujvevEItF9P"
      },
      "source": [
        "# Ex 9: Computing\n",
        "\n",
        "Write a program that asks the user for a number of seconds and prints out how many minutes and seconds that is. For instance, 200 seconds is 3 minutes and 20 seconds."
      ]
    },
    {
      "cell_type": "code",
      "execution_count": 19,
      "metadata": {
        "id": "A1WPrk5gtF9P",
        "outputId": "5a618d38-d289-4983-a088-a0fe1b70838a",
        "colab": {
          "base_uri": "https://localhost:8080/"
        }
      },
      "outputs": [
        {
          "output_type": "stream",
          "name": "stdout",
          "text": [
            "Enter a number of seconds: 200\n",
            "200 is equivalent to 3 minutes and 20 seconds\n"
          ]
        }
      ],
      "source": [
        "num_of_sec = int(input(\"Enter a number of seconds: \"))\n",
        "minute = num_of_sec // 60\n",
        "second = num_of_sec % 60\n",
        "print(\"{} is equivalent to {} minutes and {} seconds\".format(num_of_sec,minute,second))"
      ]
    },
    {
      "cell_type": "markdown",
      "metadata": {
        "id": "zyFa4-jptF9P"
      },
      "source": [
        "# Ex 10: Using Math Module\n",
        "\n",
        "Write a program that asks the user for a number and then prints out the sine, cosine, and tangent of that number."
      ]
    },
    {
      "cell_type": "code",
      "execution_count": 20,
      "metadata": {
        "id": "chfSj2EbtF9P",
        "outputId": "711d4c01-19f2-4917-ab75-cb5f15be5f21",
        "colab": {
          "base_uri": "https://localhost:8080/"
        }
      },
      "outputs": [
        {
          "output_type": "stream",
          "name": "stdout",
          "text": [
            "Enter a number:20\n",
            "sine value is: 0.9129452507276277\n",
            "cosine value is:  0.40808206181339196\n",
            "tangent value is:  2.237160944224742\n"
          ]
        }
      ],
      "source": [
        "import math\n",
        "num = float(input(\"Enter a number:\"))\n",
        "sine_value = math.sin(num)\n",
        "cosine_value = math.cos(num)\n",
        "tangent_value = math.tan(num)\n",
        "print(\"sine value is:\" ,sine_value)\n",
        "print(\"cosine value is: \",cosine_value)\n",
        "print(\"tangent value is: \",tangent_value)"
      ]
    }
  ],
  "metadata": {
    "colab": {
      "name": "Ex1_Python.ipynb",
      "provenance": [],
      "include_colab_link": true
    },
    "kernelspec": {
      "display_name": "Python 3",
      "language": "python",
      "name": "python3"
    },
    "language_info": {
      "codemirror_mode": {
        "name": "ipython",
        "version": 3
      },
      "file_extension": ".py",
      "mimetype": "text/x-python",
      "name": "python",
      "nbconvert_exporter": "python",
      "pygments_lexer": "ipython3",
      "version": "3.12.1"
    }
  },
  "nbformat": 4,
  "nbformat_minor": 0
}